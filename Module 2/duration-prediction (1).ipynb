{
 "cells": [
  {
   "cell_type": "markdown",
   "metadata": {},
   "source": [
    "# Experiment Monitoring: Mlflow"
   ]
  },
  {
   "cell_type": "code",
   "execution_count": 34,
   "metadata": {},
   "outputs": [
    {
     "name": "stdout",
     "output_type": "stream",
     "text": [
      "Python 3.8.16\r\n"
     ]
    }
   ],
   "source": [
    "!python -V"
   ]
  },
  {
   "cell_type": "code",
   "execution_count": 35,
   "metadata": {},
   "outputs": [],
   "source": [
    "import pandas as pd"
   ]
  },
  {
   "cell_type": "code",
   "execution_count": 36,
   "metadata": {},
   "outputs": [],
   "source": [
    "import pickle"
   ]
  },
  {
   "cell_type": "code",
   "execution_count": 37,
   "metadata": {},
   "outputs": [],
   "source": [
    "import seaborn as sns\n",
    "import matplotlib.pyplot as plt"
   ]
  },
  {
   "cell_type": "code",
   "execution_count": 38,
   "metadata": {},
   "outputs": [],
   "source": [
    "from sklearn.feature_extraction import DictVectorizer\n",
    "from sklearn.linear_model import LinearRegression\n",
    "from sklearn.linear_model import Lasso\n",
    "from sklearn.linear_model import Ridge\n",
    "\n",
    "from sklearn.metrics import mean_squared_error"
   ]
  },
  {
   "cell_type": "code",
   "execution_count": 39,
   "metadata": {},
   "outputs": [
    {
     "name": "stdout",
     "output_type": "stream",
     "text": [
      "Requirement already satisfied: mlflow in /home/uchenna/anaconda3/envs/ipykernel_py3/lib/python3.10/site-packages (2.3.2)\n",
      "Requirement already satisfied: querystring-parser<2 in /home/uchenna/anaconda3/envs/ipykernel_py3/lib/python3.10/site-packages (from mlflow) (1.2.4)\n",
      "Requirement already satisfied: sqlparse<1,>=0.4.0 in /home/uchenna/anaconda3/envs/ipykernel_py3/lib/python3.10/site-packages (from mlflow) (0.4.4)\n",
      "Requirement already satisfied: numpy<2 in /home/uchenna/anaconda3/envs/ipykernel_py3/lib/python3.10/site-packages (from mlflow) (1.23.5)\n",
      "Requirement already satisfied: importlib-metadata!=4.7.0,<7,>=3.7.0 in /home/uchenna/anaconda3/envs/ipykernel_py3/lib/python3.10/site-packages (from mlflow) (6.0.0)\n",
      "Requirement already satisfied: docker<7,>=4.0.0 in /home/uchenna/anaconda3/envs/ipykernel_py3/lib/python3.10/site-packages (from mlflow) (6.1.2)\n",
      "Requirement already satisfied: packaging<24 in /home/uchenna/anaconda3/envs/ipykernel_py3/lib/python3.10/site-packages (from mlflow) (22.0)\n",
      "Requirement already satisfied: pytz<2024 in /home/uchenna/anaconda3/envs/ipykernel_py3/lib/python3.10/site-packages (from mlflow) (2022.7)\n",
      "Requirement already satisfied: click<9,>=7.0 in /home/uchenna/anaconda3/envs/ipykernel_py3/lib/python3.10/site-packages (from mlflow) (8.1.3)\n",
      "Requirement already satisfied: pyyaml<7,>=5.1 in /home/uchenna/anaconda3/envs/ipykernel_py3/lib/python3.10/site-packages (from mlflow) (6.0)\n",
      "Requirement already satisfied: pandas<3 in /home/uchenna/anaconda3/envs/ipykernel_py3/lib/python3.10/site-packages (from mlflow) (1.5.2)\n",
      "Requirement already satisfied: Flask<3 in /home/uchenna/anaconda3/envs/ipykernel_py3/lib/python3.10/site-packages (from mlflow) (2.3.2)\n",
      "Requirement already satisfied: protobuf<5,>=3.12.0 in /home/uchenna/anaconda3/envs/ipykernel_py3/lib/python3.10/site-packages (from mlflow) (3.20.3)\n",
      "Requirement already satisfied: entrypoints<1 in /home/uchenna/anaconda3/envs/ipykernel_py3/lib/python3.10/site-packages (from mlflow) (0.4)\n",
      "Requirement already satisfied: sqlalchemy<3,>=1.4.0 in /home/uchenna/anaconda3/envs/ipykernel_py3/lib/python3.10/site-packages (from mlflow) (2.0.15)\n",
      "Requirement already satisfied: markdown<4,>=3.3 in /home/uchenna/anaconda3/envs/ipykernel_py3/lib/python3.10/site-packages (from mlflow) (3.4.3)\n",
      "Requirement already satisfied: databricks-cli<1,>=0.8.7 in /home/uchenna/anaconda3/envs/ipykernel_py3/lib/python3.10/site-packages (from mlflow) (0.17.7)\n",
      "Requirement already satisfied: scipy<2 in /home/uchenna/anaconda3/envs/ipykernel_py3/lib/python3.10/site-packages (from mlflow) (1.9.3)\n",
      "Requirement already satisfied: matplotlib<4 in /home/uchenna/anaconda3/envs/ipykernel_py3/lib/python3.10/site-packages (from mlflow) (3.6.2)\n",
      "Requirement already satisfied: cloudpickle<3 in /home/uchenna/anaconda3/envs/ipykernel_py3/lib/python3.10/site-packages (from mlflow) (2.2.1)\n",
      "Requirement already satisfied: pyarrow<12,>=4.0.0 in /home/uchenna/anaconda3/envs/ipykernel_py3/lib/python3.10/site-packages (from mlflow) (10.0.1)\n",
      "Requirement already satisfied: gunicorn<21 in /home/uchenna/anaconda3/envs/ipykernel_py3/lib/python3.10/site-packages (from mlflow) (20.1.0)\n",
      "Requirement already satisfied: gitpython<4,>=2.1.0 in /home/uchenna/anaconda3/envs/ipykernel_py3/lib/python3.10/site-packages (from mlflow) (3.1.30)\n",
      "Requirement already satisfied: requests<3,>=2.17.3 in /home/uchenna/anaconda3/envs/ipykernel_py3/lib/python3.10/site-packages (from mlflow) (2.28.2)\n",
      "Requirement already satisfied: Jinja2<4,>=2.11 in /home/uchenna/anaconda3/envs/ipykernel_py3/lib/python3.10/site-packages (from mlflow) (3.1.2)\n",
      "Requirement already satisfied: scikit-learn<2 in /home/uchenna/anaconda3/envs/ipykernel_py3/lib/python3.10/site-packages (from mlflow) (1.0.2)\n",
      "Requirement already satisfied: alembic!=1.10.0,<2 in /home/uchenna/anaconda3/envs/ipykernel_py3/lib/python3.10/site-packages (from mlflow) (1.11.1)\n",
      "Requirement already satisfied: Mako in /home/uchenna/anaconda3/envs/ipykernel_py3/lib/python3.10/site-packages (from alembic!=1.10.0,<2->mlflow) (1.2.4)\n",
      "Requirement already satisfied: typing-extensions>=4 in /home/uchenna/anaconda3/envs/ipykernel_py3/lib/python3.10/site-packages (from alembic!=1.10.0,<2->mlflow) (4.4.0)\n",
      "Requirement already satisfied: oauthlib>=3.1.0 in /home/uchenna/anaconda3/envs/ipykernel_py3/lib/python3.10/site-packages (from databricks-cli<1,>=0.8.7->mlflow) (3.2.2)\n",
      "Requirement already satisfied: urllib3<2.0.0,>=1.26.7 in /home/uchenna/anaconda3/envs/ipykernel_py3/lib/python3.10/site-packages (from databricks-cli<1,>=0.8.7->mlflow) (1.26.14)\n",
      "Requirement already satisfied: pyjwt>=1.7.0 in /home/uchenna/anaconda3/envs/ipykernel_py3/lib/python3.10/site-packages (from databricks-cli<1,>=0.8.7->mlflow) (2.7.0)\n",
      "Requirement already satisfied: six>=1.10.0 in /home/uchenna/anaconda3/envs/ipykernel_py3/lib/python3.10/site-packages (from databricks-cli<1,>=0.8.7->mlflow) (1.16.0)\n",
      "Requirement already satisfied: tabulate>=0.7.7 in /home/uchenna/anaconda3/envs/ipykernel_py3/lib/python3.10/site-packages (from databricks-cli<1,>=0.8.7->mlflow) (0.9.0)\n",
      "Requirement already satisfied: websocket-client>=0.32.0 in /home/uchenna/anaconda3/envs/ipykernel_py3/lib/python3.10/site-packages (from docker<7,>=4.0.0->mlflow) (1.5.2)\n",
      "Requirement already satisfied: Werkzeug>=2.3.3 in /home/uchenna/anaconda3/envs/ipykernel_py3/lib/python3.10/site-packages (from Flask<3->mlflow) (2.3.4)\n",
      "Requirement already satisfied: itsdangerous>=2.1.2 in /home/uchenna/anaconda3/envs/ipykernel_py3/lib/python3.10/site-packages (from Flask<3->mlflow) (2.1.2)\n",
      "Requirement already satisfied: blinker>=1.6.2 in /home/uchenna/anaconda3/envs/ipykernel_py3/lib/python3.10/site-packages (from Flask<3->mlflow) (1.6.2)\n",
      "Requirement already satisfied: gitdb<5,>=4.0.1 in /home/uchenna/anaconda3/envs/ipykernel_py3/lib/python3.10/site-packages (from gitpython<4,>=2.1.0->mlflow) (4.0.10)\n",
      "Requirement already satisfied: setuptools>=3.0 in /home/uchenna/anaconda3/envs/ipykernel_py3/lib/python3.10/site-packages (from gunicorn<21->mlflow) (65.6.3)\n",
      "Requirement already satisfied: zipp>=0.5 in /home/uchenna/anaconda3/envs/ipykernel_py3/lib/python3.10/site-packages (from importlib-metadata!=4.7.0,<7,>=3.7.0->mlflow) (3.11.0)\n",
      "Requirement already satisfied: MarkupSafe>=2.0 in /home/uchenna/anaconda3/envs/ipykernel_py3/lib/python3.10/site-packages (from Jinja2<4,>=2.11->mlflow) (2.1.1)\n",
      "Requirement already satisfied: pyparsing>=2.2.1 in /home/uchenna/anaconda3/envs/ipykernel_py3/lib/python3.10/site-packages (from matplotlib<4->mlflow) (3.0.9)\n",
      "Requirement already satisfied: kiwisolver>=1.0.1 in /home/uchenna/anaconda3/envs/ipykernel_py3/lib/python3.10/site-packages (from matplotlib<4->mlflow) (1.4.4)\n",
      "Requirement already satisfied: pillow>=6.2.0 in /home/uchenna/anaconda3/envs/ipykernel_py3/lib/python3.10/site-packages (from matplotlib<4->mlflow) (9.4.0)\n",
      "Requirement already satisfied: python-dateutil>=2.7 in /home/uchenna/anaconda3/envs/ipykernel_py3/lib/python3.10/site-packages (from matplotlib<4->mlflow) (2.8.2)\n",
      "Requirement already satisfied: contourpy>=1.0.1 in /home/uchenna/anaconda3/envs/ipykernel_py3/lib/python3.10/site-packages (from matplotlib<4->mlflow) (1.0.6)\n",
      "Requirement already satisfied: cycler>=0.10 in /home/uchenna/anaconda3/envs/ipykernel_py3/lib/python3.10/site-packages (from matplotlib<4->mlflow) (0.11.0)\n",
      "Requirement already satisfied: fonttools>=4.22.0 in /home/uchenna/anaconda3/envs/ipykernel_py3/lib/python3.10/site-packages (from matplotlib<4->mlflow) (4.38.0)\n",
      "Requirement already satisfied: charset-normalizer<4,>=2 in /home/uchenna/anaconda3/envs/ipykernel_py3/lib/python3.10/site-packages (from requests<3,>=2.17.3->mlflow) (3.0.1)\n",
      "Requirement already satisfied: certifi>=2017.4.17 in /home/uchenna/anaconda3/envs/ipykernel_py3/lib/python3.10/site-packages (from requests<3,>=2.17.3->mlflow) (2022.12.7)\n",
      "Requirement already satisfied: idna<4,>=2.5 in /home/uchenna/anaconda3/envs/ipykernel_py3/lib/python3.10/site-packages (from requests<3,>=2.17.3->mlflow) (3.4)\n",
      "Requirement already satisfied: joblib>=0.11 in /home/uchenna/anaconda3/envs/ipykernel_py3/lib/python3.10/site-packages (from scikit-learn<2->mlflow) (1.2.0)\n",
      "Requirement already satisfied: threadpoolctl>=2.0.0 in /home/uchenna/anaconda3/envs/ipykernel_py3/lib/python3.10/site-packages (from scikit-learn<2->mlflow) (3.1.0)\n",
      "Requirement already satisfied: greenlet!=0.4.17 in /home/uchenna/anaconda3/envs/ipykernel_py3/lib/python3.10/site-packages (from sqlalchemy<3,>=1.4.0->mlflow) (2.0.2)\n",
      "Requirement already satisfied: smmap<6,>=3.0.1 in /home/uchenna/anaconda3/envs/ipykernel_py3/lib/python3.10/site-packages (from gitdb<5,>=4.0.1->gitpython<4,>=2.1.0->mlflow) (5.0.0)\n",
      "Note: you may need to restart the kernel to use updated packages.\n"
     ]
    }
   ],
   "source": [
    "pip install mlflow"
   ]
  },
  {
   "cell_type": "code",
   "execution_count": 7,
   "metadata": {},
   "outputs": [
    {
     "data": {
      "text/plain": [
       "<Experiment: artifact_location=('/mnt/c/Users/maria/OneDrive/1. Machine Learning Career/DataTalks Club- MLOPS '\n",
       " 'Zoomcamp/Module 2/mlruns/1'), creation_time=1685390798547, experiment_id='1', last_update_time=1685390798547, lifecycle_stage='active', name='MLOPS Zoom Class Experiment', tags={}>"
      ]
     },
     "execution_count": 7,
     "metadata": {},
     "output_type": "execute_result"
    }
   ],
   "source": [
    "import mlflow\n",
    "\n",
    "mlflow.set_tracking_uri(\"sqlite:///mlflow.db\")\n",
    "mlflow.set_experiment(\"MLOPS Zoom Class Experiment\")"
   ]
  },
  {
   "cell_type": "code",
   "execution_count": 8,
   "metadata": {},
   "outputs": [],
   "source": [
    "df = pd.read_parquet('./data/green_tripdata_2022-01.parquet')\n",
    "\n",
    "df['duration'] = df.lpep_dropoff_datetime - df.lpep_pickup_datetime\n",
    "df.duration = df.duration.apply(lambda td: td.total_seconds() / 60)\n",
    "\n",
    "df = df[(df.duration >= 1) & (df.duration <= 60)]\n",
    "\n",
    "categorical = ['PULocationID', 'DOLocationID']\n",
    "numerical = ['trip_distance']\n",
    "\n",
    "df[categorical] = df[categorical].astype(str)"
   ]
  },
  {
   "cell_type": "code",
   "execution_count": 9,
   "metadata": {},
   "outputs": [
    {
     "data": {
      "text/plain": [
       "7.723146724324908"
      ]
     },
     "execution_count": 9,
     "metadata": {},
     "output_type": "execute_result"
    }
   ],
   "source": [
    "train_dicts = df[categorical + numerical].to_dict(orient='records')\n",
    "\n",
    "dv = DictVectorizer()\n",
    "X_train = dv.fit_transform(train_dicts)\n",
    "\n",
    "target = 'duration'\n",
    "y_train = df[target].values\n",
    "\n",
    "lr = LinearRegression()\n",
    "lr.fit(X_train, y_train)\n",
    "\n",
    "y_pred = lr.predict(X_train)\n",
    "\n",
    "mean_squared_error(y_train, y_pred, squared=False)"
   ]
  },
  {
   "cell_type": "code",
   "execution_count": 10,
   "metadata": {},
   "outputs": [
    {
     "name": "stderr",
     "output_type": "stream",
     "text": [
      "/tmp/ipykernel_543/1672306066.py:1: UserWarning: \n",
      "\n",
      "`distplot` is a deprecated function and will be removed in seaborn v0.14.0.\n",
      "\n",
      "Please adapt your code to use either `displot` (a figure-level function with\n",
      "similar flexibility) or `histplot` (an axes-level function for histograms).\n",
      "\n",
      "For a guide to updating your code to use the new functions, please see\n",
      "https://gist.github.com/mwaskom/de44147ed2974457ad6372750bbe5751\n",
      "\n",
      "  sns.distplot(y_pred, label='prediction')\n",
      "/tmp/ipykernel_543/1672306066.py:2: UserWarning: \n",
      "\n",
      "`distplot` is a deprecated function and will be removed in seaborn v0.14.0.\n",
      "\n",
      "Please adapt your code to use either `displot` (a figure-level function with\n",
      "similar flexibility) or `histplot` (an axes-level function for histograms).\n",
      "\n",
      "For a guide to updating your code to use the new functions, please see\n",
      "https://gist.github.com/mwaskom/de44147ed2974457ad6372750bbe5751\n",
      "\n",
      "  sns.distplot(y_train, label='actual')\n"
     ]
    },
    {
     "data": {
      "text/plain": [
       "<matplotlib.legend.Legend at 0x7f514f49a260>"
      ]
     },
     "execution_count": 10,
     "metadata": {},
     "output_type": "execute_result"
    },
    {
     "data": {
      "image/png": "[encoded data removed]",
      "text/plain": [
       "<Figure size 640x480 with 1 Axes>"
      ]
     },
     "metadata": {},
     "output_type": "display_data"
    }
   ],
   "source": [
    "sns.distplot(y_pred, label='prediction')\n",
    "sns.distplot(y_train, label='actual')\n",
    "\n",
    "plt.legend()"
   ]
  },
  {
   "cell_type": "code",
   "execution_count": 11,
   "metadata": {},
   "outputs": [],
   "source": [
    "def read_dataframe(filename):\n",
    "    if filename.endswith('.csv'):\n",
    "        df = pd.read_csv(filename)\n",
    "\n",
    "        df.lpep_dropoff_datetime = pd.to_datetime(df.lpep_dropoff_datetime)\n",
    "        df.lpep_pickup_datetime = pd.to_datetime(df.lpep_pickup_datetime)\n",
    "    elif filename.endswith('.parquet'):\n",
    "        df = pd.read_parquet(filename)\n",
    "\n",
    "    df['duration'] = df.lpep_dropoff_datetime - df.lpep_pickup_datetime\n",
    "    df.duration = df.duration.apply(lambda td: td.total_seconds() / 60)\n",
    "\n",
    "    df = df[(df.duration >= 1) & (df.duration <= 60)]\n",
    "\n",
    "    categorical = ['PULocationID', 'DOLocationID']\n",
    "    df[categorical] = df[categorical].astype(str)\n",
    "    \n",
    "    return df"
   ]
  },
  {
   "cell_type": "code",
   "execution_count": 12,
   "metadata": {},
   "outputs": [],
   "source": [
    "df_train = read_dataframe('./data/green_tripdata_2022-01.parquet')\n",
    "df_val = read_dataframe('./data/green_tripdata_2022-02.parquet')"
   ]
  },
  {
   "cell_type": "code",
   "execution_count": 13,
   "metadata": {},
   "outputs": [
    {
     "data": {
      "text/plain": [
       "(59603, 66097)"
      ]
     },
     "execution_count": 13,
     "metadata": {},
     "output_type": "execute_result"
    }
   ],
   "source": [
    "len(df_train), len(df_val)"
   ]
  },
  {
   "cell_type": "code",
   "execution_count": 14,
   "metadata": {},
   "outputs": [],
   "source": [
    "df_train['PU_DO'] = df_train['PULocationID'] + '_' + df_train['DOLocationID']\n",
    "df_val['PU_DO'] = df_val['PULocationID'] + '_' + df_val['DOLocationID']"
   ]
  },
  {
   "cell_type": "code",
   "execution_count": 15,
   "metadata": {},
   "outputs": [],
   "source": [
    "categorical = ['PU_DO'] #'PULocationID', 'DOLocationID']\n",
    "numerical = ['trip_distance']\n",
    "\n",
    "dv = DictVectorizer()\n",
    "\n",
    "train_dicts = df_train[categorical + numerical].to_dict(orient='records')\n",
    "X_train = dv.fit_transform(train_dicts)\n",
    "\n",
    "val_dicts = df_val[categorical + numerical].to_dict(orient='records')\n",
    "X_val = dv.transform(val_dicts)"
   ]
  },
  {
   "cell_type": "code",
   "execution_count": 16,
   "metadata": {},
   "outputs": [],
   "source": [
    "target = 'duration'\n",
    "y_train = df_train[target].values\n",
    "y_val = df_val[target].values"
   ]
  },
  {
   "cell_type": "code",
   "execution_count": 17,
   "metadata": {},
   "outputs": [
    {
     "data": {
      "text/plain": [
       "6.928931233898232"
      ]
     },
     "execution_count": 17,
     "metadata": {},
     "output_type": "execute_result"
    }
   ],
   "source": [
    "\n",
    "lr = LinearRegression()\n",
    "lr.fit(X_train, y_train)\n",
    "\n",
    "y_pred = lr.predict(X_val)\n",
    "\n",
    "mean_squared_error(y_val, y_pred, squared=False)"
   ]
  },
  {
   "cell_type": "code",
   "execution_count": 18,
   "metadata": {},
   "outputs": [],
   "source": [
    "with open('models/lin_reg.bin', 'wb') as f_out:\n",
    "    pickle.dump((dv, lr), f_out)"
   ]
  },
  {
   "cell_type": "code",
   "execution_count": 33,
   "metadata": {},
   "outputs": [],
   "source": [
    "import mlflow"
   ]
  },
  {
   "cell_type": "code",
   "execution_count": 20,
   "metadata": {},
   "outputs": [],
   "source": [
    "with mlflow.start_run():\n",
    "    \n",
    "    mlflow.set_tag(\"developer\", \"Uchenna\")\n",
    "    mlflow.log_param(\"train-data-path\", \"./data/green_tripdata_2022-01.parquet\")\n",
    "    mlflow.log_param(\"valid-data-path\", \"./data/green_tripdata_2022-02.parquet\")\n",
    "    alpha = 0.01\n",
    "    mlflow.log_param(\"alpha\",alpha)\n",
    "lr = Lasso(alpha)\n",
    "lr.fit(X_train, y_train)\n",
    "\n",
    "y_pred = lr.predict(X_val)\n",
    "\n",
    "rmse = mean_squared_error(y_val, y_pred, squared=False)\n",
    "mlflow.log_metric(\"rmse\",rmse)"
   ]
  },
  {
   "cell_type": "markdown",
   "metadata": {},
   "source": [
    "To view User Interface using Databricks since SQLite was not loading..."
   ]
  },
  {
   "cell_type": "markdown",
   "metadata": {},
   "source": [
    "Run the following in command line and enter user name(uokoloekwe@gmail.com) and password: Chizzy"
   ]
  },
  {
   "cell_type": "code",
   "execution_count": 24,
   "metadata": {},
   "outputs": [
    {
     "name": "stderr",
     "output_type": "stream",
     "text": [
      "2023/05/29 18:29:06 INFO mlflow.tracking.fluent: Experiment with name '/Users/uokoloekwe@gmail.com/MLFlow Zoomcamp' does not exist. Creating a new experiment.\n"
     ]
    },
    {
     "data": {
      "text/plain": [
       "<Experiment: artifact_location='dbfs:/databricks/mlflow-tracking/4105700166558086', creation_time=1685406547787, experiment_id='4105700166558086', last_update_time=1685406547787, lifecycle_stage='active', name='/Users/uokoloekwe@gmail.com/MLFlow Zoomcamp', tags={'mlflow.experiment.sourceName': '/Users/uokoloekwe@gmail.com/MLFlow Zoomcamp',\n",
       " 'mlflow.experimentType': 'MLFLOW_EXPERIMENT',\n",
       " 'mlflow.ownerEmail': 'uokoloekwe@gmail.com',\n",
       " 'mlflow.ownerId': '1532440576552063'}>"
      ]
     },
     "execution_count": 24,
     "metadata": {},
     "output_type": "execute_result"
    }
   ],
   "source": [
    "import mlflow\n",
    "mlflow.set_tracking_uri(\"databricks\")\n",
    "mlflow.set_experiment(\"/Users/uokoloekwe@gmail.com/MLFlow Zoomcamp\")"
   ]
  },
  {
   "cell_type": "code",
   "execution_count": 44,
   "metadata": {},
   "outputs": [],
   "source": [
    "with mlflow.start_run():\n",
    "    \n",
    "    mlflow.set_tag(\"developer\", \"Uchenna\")\n",
    "    mlflow.log_param(\"train-data-path\", \"./data/green_tripdata_2022-01.parquet\")\n",
    "    mlflow.log_param(\"valid-data-path\", \"./data/green_tripdata_2022-02.parquet\")\n",
    "    alpha = 0.05\n",
    "    mlflow.log_param(\"alpha\",alpha)\n",
    "lr = Lasso(alpha)\n",
    "lr.fit(X_train, y_train)\n",
    "\n",
    "y_pred = lr.predict(X_val)\n",
    "\n",
    "rmse = mean_squared_error(y_val, y_pred, squared=False)\n",
    "mlflow.log_metric(\"rmse\",rmse)"
   ]
  },
  {
   "cell_type": "code",
   "execution_count": 45,
   "metadata": {},
   "outputs": [],
   "source": [
    "mlflow.end_run()"
   ]
  },
  {
   "cell_type": "code",
   "execution_count": 46,
   "metadata": {},
   "outputs": [],
   "source": [
    "import os\n",
    "import pickle\n",
    "import click\n",
    "\n",
    "from sklearn.ensemble import RandomForestRegressor\n",
    "from sklearn.metrics import mean_squared_error\n",
    "\n",
    "\n"
   ]
  },
  {
   "cell_type": "code",
   "execution_count": 47,
   "metadata": {},
   "outputs": [],
   "source": [
    "def load_pickle(filename: str):\n",
    "    with open(filename, \"rb\") as f_in:\n",
    "        return pickle.load(f_in)\n",
    "\n",
    "\n",
    "\n",
    "\n",
    "\n",
    "\n"
   ]
  },
  {
   "cell_type": "code",
   "execution_count": 51,
   "metadata": {},
   "outputs": [],
   "source": [
    "with mlflow.start_run():\n",
    "    \n",
    "    alpha = 0.05\n",
    "    max_depth=10\n",
    "    mlflow.set_tag(\"developer\", \"Uchenna\")\n",
    "    mlflow.log_param(\"train-data-path\", \"./data/green_tripdata_2022-01.parquet\")\n",
    "    mlflow.log_param(\"valid-data-path\", \"./data/green_tripdata_2022-02.parquet\")\n",
    "    mlflow.log_param(\"alpha\",alpha)\n",
    "    mlflow.log_param(\"max_depth\",max_depth)\n",
    "\n",
    "def run_train(data_path: str):\n",
    "\n",
    "    X_train, y_train = load_pickle(os.path.join(data_path, \"train.pkl\"))\n",
    "    X_val, y_val = load_pickle(os.path.join(data_path, \"val.pkl\"))\n",
    "\n",
    "    rf = RandomForestRegressor(max_depth=max_depth, random_state=0)\n",
    "    rf.fit(X_train, y_train)\n",
    "    y_pred = rf.predict(X_val)\n",
    "\n",
    "    rmse = mean_squared_error(y_val, y_pred, squared=False)\n",
    "    mlflow.log_metric(\"rmse\",rmse)"
   ]
  },
  {
   "cell_type": "code",
   "execution_count": 52,
   "metadata": {},
   "outputs": [],
   "source": [
    "mlflow.end_run()"
   ]
  },
  {
   "cell_type": "markdown",
   "metadata": {},
   "source": [
    "# Model Optimization"
   ]
  },
  {
   "cell_type": "code",
   "execution_count": 54,
   "metadata": {},
   "outputs": [
    {
     "name": "stdout",
     "output_type": "stream",
     "text": [
      "Collecting optuna\n",
      "  Using cached optuna-3.2.0-py3-none-any.whl (390 kB)\n",
      "Requirement already satisfied: packaging>=20.0 in /home/uchenna/anaconda3/envs/ipykernel_py3/lib/python3.10/site-packages (from optuna) (22.0)\n",
      "Requirement already satisfied: tqdm in /home/uchenna/anaconda3/envs/ipykernel_py3/lib/python3.10/site-packages (from optuna) (4.64.1)\n",
      "Collecting colorlog\n",
      "  Using cached colorlog-6.7.0-py2.py3-none-any.whl (11 kB)\n",
      "Requirement already satisfied: numpy in /home/uchenna/anaconda3/envs/ipykernel_py3/lib/python3.10/site-packages (from optuna) (1.23.5)\n",
      "Requirement already satisfied: sqlalchemy>=1.3.0 in /home/uchenna/anaconda3/envs/ipykernel_py3/lib/python3.10/site-packages (from optuna) (2.0.15)\n",
      "Requirement already satisfied: alembic>=1.5.0 in /home/uchenna/anaconda3/envs/ipykernel_py3/lib/python3.10/site-packages (from optuna) (1.11.1)\n",
      "Requirement already satisfied: PyYAML in /home/uchenna/anaconda3/envs/ipykernel_py3/lib/python3.10/site-packages (from optuna) (6.0)\n",
      "Collecting cmaes>=0.9.1\n",
      "  Using cached cmaes-0.9.1-py3-none-any.whl (21 kB)\n",
      "Requirement already satisfied: Mako in /home/uchenna/anaconda3/envs/ipykernel_py3/lib/python3.10/site-packages (from alembic>=1.5.0->optuna) (1.2.4)\n",
      "Requirement already satisfied: typing-extensions>=4 in /home/uchenna/anaconda3/envs/ipykernel_py3/lib/python3.10/site-packages (from alembic>=1.5.0->optuna) (4.4.0)\n",
      "Requirement already satisfied: greenlet!=0.4.17 in /home/uchenna/anaconda3/envs/ipykernel_py3/lib/python3.10/site-packages (from sqlalchemy>=1.3.0->optuna) (2.0.2)\n",
      "Requirement already satisfied: MarkupSafe>=0.9.2 in /home/uchenna/anaconda3/envs/ipykernel_py3/lib/python3.10/site-packages (from Mako->alembic>=1.5.0->optuna) (2.1.1)\n",
      "Installing collected packages: colorlog, cmaes, optuna\n",
      "Successfully installed cmaes-0.9.1 colorlog-6.7.0 optuna-3.2.0\n",
      "Note: you may need to restart the kernel to use updated packages.\n"
     ]
    }
   ],
   "source": [
    "pip install optuna"
   ]
  },
  {
   "cell_type": "code",
   "execution_count": 55,
   "metadata": {},
   "outputs": [],
   "source": [
    "import os\n",
    "import pickle\n",
    "import click\n",
    "import mlflow\n",
    "import optuna\n",
    "\n",
    "from optuna.samplers import TPESampler\n",
    "from sklearn.ensemble import RandomForestRegressor\n",
    "from sklearn.metrics import mean_squared_error"
   ]
  },
  {
   "cell_type": "code",
   "execution_count": 58,
   "metadata": {},
   "outputs": [
    {
     "name": "stderr",
     "output_type": "stream",
     "text": [
      "2023/05/30 11:18:19 INFO mlflow.tracking.fluent: Experiment with name '/Users/uokoloekwe@gmail.com/MLFlow Zoomcamp Random Forest Hyperopt' does not exist. Creating a new experiment.\n"
     ]
    },
    {
     "data": {
      "text/plain": [
       "<Experiment: artifact_location='dbfs:/databricks/mlflow-tracking/299707463258061', creation_time=1685467100328, experiment_id='299707463258061', last_update_time=1685467100328, lifecycle_stage='active', name='/Users/uokoloekwe@gmail.com/MLFlow Zoomcamp Random Forest Hyperopt', tags={'mlflow.experiment.sourceName': '/Users/uokoloekwe@gmail.com/MLFlow Zoomcamp '\n",
       "                                 'Random Forest Hyperopt',\n",
       " 'mlflow.experimentType': 'MLFLOW_EXPERIMENT',\n",
       " 'mlflow.ownerEmail': 'uokoloekwe@gmail.com',\n",
       " 'mlflow.ownerId': '1532440576552063'}>"
      ]
     },
     "execution_count": 58,
     "metadata": {},
     "output_type": "execute_result"
    }
   ],
   "source": [
    "#mlflow.set_tracking_uri(\"http://127.0.0.1:5000\") ##Tracking on Databricks\n",
    "mlflow.set_tracking_uri(\"databricks\")\n",
    "mlflow.set_experiment(\"/Users/uokoloekwe@gmail.com/MLFlow Zoomcamp Random Forest Hyperopt\")"
   ]
  },
  {
   "cell_type": "code",
   "execution_count": 59,
   "metadata": {},
   "outputs": [],
   "source": [
    "def load_pickle(filename):\n",
    "    with open(filename, \"rb\") as f_in:\n",
    "        return pickle.load(f_in)\n"
   ]
  },
  {
   "cell_type": "code",
   "execution_count": 86,
   "metadata": {
    "scrolled": true
   },
   "outputs": [
    {
     "name": "stderr",
     "output_type": "stream",
     "text": [
      "[I 2023-05-30 12:23:11,222] A new study created in memory with name: no-name-c4e09ec9-d2d9-409e-994a-d29eb50128e0\n",
      "[I 2023-05-30 12:23:13,449] Trial 0 finished with value: 6.012747224033297 and parameters: {'n_estimators': 25, 'max_depth': 20, 'min_samples_split': 8, 'min_samples_leaf': 3}. Best is trial 0 with value: 6.012747224033297.\n",
      "[I 2023-05-30 12:23:13,744] Trial 1 finished with value: 6.249433998787504 and parameters: {'n_estimators': 16, 'max_depth': 4, 'min_samples_split': 2, 'min_samples_leaf': 4}. Best is trial 0 with value: 6.012747224033297.\n",
      "[I 2023-05-30 12:23:15,764] Trial 2 finished with value: 6.039045655830305 and parameters: {'n_estimators': 34, 'max_depth': 15, 'min_samples_split': 2, 'min_samples_leaf': 4}. Best is trial 0 with value: 6.012747224033297.\n",
      "[I 2023-05-30 12:23:16,396] Trial 3 finished with value: 6.179387143797027 and parameters: {'n_estimators': 44, 'max_depth': 5, 'min_samples_split': 3, 'min_samples_leaf': 1}. Best is trial 0 with value: 6.012747224033297.\n",
      "[I 2023-05-30 12:23:17,309] Trial 4 finished with value: 6.075505898039151 and parameters: {'n_estimators': 22, 'max_depth': 11, 'min_samples_split': 5, 'min_samples_leaf': 2}. Best is trial 0 with value: 6.012747224033297.\n",
      "[I 2023-05-30 12:23:17,732] Trial 5 finished with value: 6.441117537172997 and parameters: {'n_estimators': 35, 'max_depth': 3, 'min_samples_split': 4, 'min_samples_leaf': 2}. Best is trial 0 with value: 6.012747224033297.\n",
      "[I 2023-05-30 12:23:19,591] Trial 6 finished with value: 6.0285791267371165 and parameters: {'n_estimators': 28, 'max_depth': 16, 'min_samples_split': 3, 'min_samples_leaf': 3}. Best is trial 0 with value: 6.012747224033297.\n",
      "[I 2023-05-30 12:23:19,867] Trial 7 finished with value: 7.881244954282265 and parameters: {'n_estimators': 34, 'max_depth': 1, 'min_samples_split': 7, 'min_samples_leaf': 1}. Best is trial 0 with value: 6.012747224033297.\n",
      "[I 2023-05-30 12:23:21,006] Trial 8 finished with value: 6.025608014492215 and parameters: {'n_estimators': 12, 'max_depth': 19, 'min_samples_split': 10, 'min_samples_leaf': 4}. Best is trial 0 with value: 6.012747224033297.\n",
      "[I 2023-05-30 12:23:21,288] Trial 9 finished with value: 7.071070856187059 and parameters: {'n_estimators': 22, 'max_depth': 2, 'min_samples_split': 8, 'min_samples_leaf': 2}. Best is trial 0 with value: 6.012747224033297.\n",
      "[I 2023-05-30 12:23:22,820] Trial 10 finished with value: 6.07515169296297 and parameters: {'n_estimators': 48, 'max_depth': 10, 'min_samples_split': 10, 'min_samples_leaf': 3}. Best is trial 0 with value: 6.012747224033297.\n",
      "[I 2023-05-30 12:23:23,898] Trial 11 finished with value: 6.027013569541599 and parameters: {'n_estimators': 11, 'max_depth': 19, 'min_samples_split': 10, 'min_samples_leaf': 4}. Best is trial 0 with value: 6.012747224033297.\n",
      "[I 2023-05-30 12:23:25,178] Trial 12 finished with value: 6.014044866880378 and parameters: {'n_estimators': 12, 'max_depth': 20, 'min_samples_split': 8, 'min_samples_leaf': 3}. Best is trial 0 with value: 6.012747224033297.\n",
      "[I 2023-05-30 12:23:27,073] Trial 13 finished with value: 6.010555667596339 and parameters: {'n_estimators': 21, 'max_depth': 20, 'min_samples_split': 8, 'min_samples_leaf': 3}. Best is trial 13 with value: 6.010555667596339.\n",
      "[I 2023-05-30 12:23:29,106] Trial 14 finished with value: 6.0266757379450215 and parameters: {'n_estimators': 24, 'max_depth': 16, 'min_samples_split': 8, 'min_samples_leaf': 3}. Best is trial 13 with value: 6.010555667596339.\n",
      "[I 2023-05-30 12:23:30,269] Trial 15 finished with value: 6.050703926984736 and parameters: {'n_estimators': 18, 'max_depth': 12, 'min_samples_split': 6, 'min_samples_leaf': 3}. Best is trial 13 with value: 6.010555667596339.\n",
      "[I 2023-05-30 12:23:31,353] Trial 16 finished with value: 6.111154743174032 and parameters: {'n_estimators': 29, 'max_depth': 8, 'min_samples_split': 7, 'min_samples_leaf': 2}. Best is trial 13 with value: 6.010555667596339.\n",
      "[I 2023-05-30 12:23:33,592] Trial 17 finished with value: 6.038636426741477 and parameters: {'n_estimators': 41, 'max_depth': 14, 'min_samples_split': 9, 'min_samples_leaf': 3}. Best is trial 13 with value: 6.010555667596339.\n",
      "[I 2023-05-30 12:23:35,270] Trial 18 finished with value: 6.020551616240445 and parameters: {'n_estimators': 18, 'max_depth': 18, 'min_samples_split': 6, 'min_samples_leaf': 2}. Best is trial 13 with value: 6.010555667596339.\n",
      "[I 2023-05-30 12:23:37,242] Trial 19 finished with value: 6.028901540081061 and parameters: {'n_estimators': 25, 'max_depth': 18, 'min_samples_split': 9, 'min_samples_leaf': 4}. Best is trial 13 with value: 6.010555667596339.\n",
      "[I 2023-05-30 12:23:39,165] Trial 20 finished with value: 6.045980756165215 and parameters: {'n_estimators': 37, 'max_depth': 13, 'min_samples_split': 7, 'min_samples_leaf': 3}. Best is trial 13 with value: 6.010555667596339.\n",
      "[I 2023-05-30 12:23:40,485] Trial 21 finished with value: 6.013473164562511 and parameters: {'n_estimators': 15, 'max_depth': 20, 'min_samples_split': 8, 'min_samples_leaf': 3}. Best is trial 13 with value: 6.010555667596339.\n",
      "[I 2023-05-30 12:23:41,870] Trial 22 finished with value: 6.010868603553358 and parameters: {'n_estimators': 16, 'max_depth': 20, 'min_samples_split': 9, 'min_samples_leaf': 3}. Best is trial 13 with value: 6.010555667596339.\n",
      "[I 2023-05-30 12:23:43,513] Trial 23 finished with value: 6.019823954341271 and parameters: {'n_estimators': 20, 'max_depth': 17, 'min_samples_split': 9, 'min_samples_leaf': 3}. Best is trial 13 with value: 6.010555667596339.\n",
      "[I 2023-05-30 12:23:46,182] Trial 24 finished with value: 6.007855966705247 and parameters: {'n_estimators': 28, 'max_depth': 20, 'min_samples_split': 9, 'min_samples_leaf': 2}. Best is trial 24 with value: 6.007855966705247.\n",
      "[I 2023-05-30 12:23:47,901] Trial 25 finished with value: 6.075962256782307 and parameters: {'n_estimators': 31, 'max_depth': 17, 'min_samples_split': 9, 'min_samples_leaf': 1}. Best is trial 24 with value: 6.007855966705247.\n",
      "[I 2023-05-30 12:23:48,790] Trial 26 finished with value: 6.094974505633916 and parameters: {'n_estimators': 27, 'max_depth': 9, 'min_samples_split': 10, 'min_samples_leaf': 2}. Best is trial 24 with value: 6.007855966705247.\n",
      "[I 2023-05-30 12:23:49,282] Trial 27 finished with value: 6.121392273884007 and parameters: {'n_estimators': 16, 'max_depth': 7, 'min_samples_split': 9, 'min_samples_leaf': 2}. Best is trial 24 with value: 6.007855966705247.\n",
      "[I 2023-05-30 12:23:51,342] Trial 28 finished with value: 6.036879567338545 and parameters: {'n_estimators': 31, 'max_depth': 15, 'min_samples_split': 7, 'min_samples_leaf': 2}. Best is trial 24 with value: 6.007855966705247.\n",
      "[I 2023-05-30 12:23:53,276] Trial 29 finished with value: 6.0636783313973295 and parameters: {'n_estimators': 22, 'max_depth': 20, 'min_samples_split': 8, 'min_samples_leaf': 1}. Best is trial 24 with value: 6.007855966705247.\n",
      "[I 2023-05-30 12:23:55,658] Trial 30 finished with value: 6.022548660927448 and parameters: {'n_estimators': 26, 'max_depth': 18, 'min_samples_split': 5, 'min_samples_leaf': 3}. Best is trial 24 with value: 6.007855966705247.\n",
      "[I 2023-05-30 12:23:57,098] Trial 31 finished with value: 6.024162546274724 and parameters: {'n_estimators': 14, 'max_depth': 20, 'min_samples_split': 9, 'min_samples_leaf': 4}. Best is trial 24 with value: 6.007855966705247.\n",
      "[I 2023-05-30 12:23:59,141] Trial 32 finished with value: 6.0146439914492635 and parameters: {'n_estimators': 19, 'max_depth': 19, 'min_samples_split': 8, 'min_samples_leaf': 3}. Best is trial 24 with value: 6.007855966705247.\n",
      "[I 2023-05-30 12:24:01,818] Trial 33 finished with value: 6.032590508632688 and parameters: {'n_estimators': 24, 'max_depth': 17, 'min_samples_split': 7, 'min_samples_leaf': 4}. Best is trial 24 with value: 6.007855966705247.\n",
      "[I 2023-05-30 12:24:03,856] Trial 34 finished with value: 6.027062702073216 and parameters: {'n_estimators': 21, 'max_depth': 15, 'min_samples_split': 10, 'min_samples_leaf': 3}. Best is trial 24 with value: 6.007855966705247.\n",
      "[I 2023-05-30 12:24:04,633] Trial 35 finished with value: 6.176832580278028 and parameters: {'n_estimators': 32, 'max_depth': 5, 'min_samples_split': 9, 'min_samples_leaf': 2}. Best is trial 24 with value: 6.007855966705247.\n",
      "[I 2023-05-30 12:24:06,889] Trial 36 finished with value: 6.017151720328978 and parameters: {'n_estimators': 17, 'max_depth': 19, 'min_samples_split': 5, 'min_samples_leaf': 3}. Best is trial 24 with value: 6.007855966705247.\n",
      "[I 2023-05-30 12:24:09,674] Trial 37 finished with value: 6.030255282233868 and parameters: {'n_estimators': 37, 'max_depth': 16, 'min_samples_split': 8, 'min_samples_leaf': 2}. Best is trial 24 with value: 6.007855966705247.\n",
      "[I 2023-05-30 12:24:12,220] Trial 38 finished with value: 6.029084807267829 and parameters: {'n_estimators': 28, 'max_depth': 18, 'min_samples_split': 6, 'min_samples_leaf': 4}. Best is trial 24 with value: 6.007855966705247.\n",
      "[I 2023-05-30 12:24:15,031] Trial 39 finished with value: 6.015934082171285 and parameters: {'n_estimators': 23, 'max_depth': 20, 'min_samples_split': 3, 'min_samples_leaf': 3}. Best is trial 24 with value: 6.007855966705247.\n",
      "[I 2023-05-30 12:24:16,325] Trial 40 finished with value: 6.051445295958157 and parameters: {'n_estimators': 14, 'max_depth': 13, 'min_samples_split': 7, 'min_samples_leaf': 2}. Best is trial 24 with value: 6.007855966705247.\n",
      "[I 2023-05-30 12:24:17,597] Trial 41 finished with value: 6.017731091085658 and parameters: {'n_estimators': 10, 'max_depth': 20, 'min_samples_split': 8, 'min_samples_leaf': 3}. Best is trial 24 with value: 6.007855966705247.\n",
      "[I 2023-05-30 12:24:18,940] Trial 42 finished with value: 6.017045729916714 and parameters: {'n_estimators': 14, 'max_depth': 19, 'min_samples_split': 8, 'min_samples_leaf': 3}. Best is trial 24 with value: 6.007855966705247.\n",
      "[I 2023-05-30 12:24:20,998] Trial 43 finished with value: 6.0099225258492845 and parameters: {'n_estimators': 20, 'max_depth': 20, 'min_samples_split': 9, 'min_samples_leaf': 3}. Best is trial 24 with value: 6.007855966705247.\n",
      "[I 2023-05-30 12:24:23,130] Trial 44 finished with value: 6.018109080662801 and parameters: {'n_estimators': 25, 'max_depth': 18, 'min_samples_split': 10, 'min_samples_leaf': 3}. Best is trial 24 with value: 6.007855966705247.\n",
      "[I 2023-05-30 12:24:25,427] Trial 45 finished with value: 6.019823954341271 and parameters: {'n_estimators': 20, 'max_depth': 17, 'min_samples_split': 9, 'min_samples_leaf': 3}. Best is trial 24 with value: 6.007855966705247.\n",
      "[I 2023-05-30 12:24:27,642] Trial 46 finished with value: 6.024948916056803 and parameters: {'n_estimators': 22, 'max_depth': 19, 'min_samples_split': 10, 'min_samples_leaf': 4}. Best is trial 24 with value: 6.007855966705247.\n",
      "[I 2023-05-30 12:24:30,434] Trial 47 finished with value: 6.010988222218657 and parameters: {'n_estimators': 29, 'max_depth': 20, 'min_samples_split': 9, 'min_samples_leaf': 3}. Best is trial 24 with value: 6.007855966705247.\n",
      "[I 2023-05-30 12:24:33,497] Trial 48 finished with value: 6.007352732860124 and parameters: {'n_estimators': 33, 'max_depth': 20, 'min_samples_split': 9, 'min_samples_leaf': 2}. Best is trial 48 with value: 6.007352732860124.\n",
      "[I 2023-05-30 12:24:35,845] Trial 49 finished with value: 6.027795023974539 and parameters: {'n_estimators': 34, 'max_depth': 16, 'min_samples_split': 10, 'min_samples_leaf': 2}. Best is trial 48 with value: 6.007352732860124.\n"
     ]
    }
   ],
   "source": [
    "def run_optimization(data_path: str, num_trials: int):\n",
    "    \n",
    "    \n",
    "\n",
    "    X_train, y_train = load_pickle(os.path.join(data_path, \"train.pkl\"))\n",
    "    X_val, y_val = load_pickle(os.path.join(data_path, \"val.pkl\"))\n",
    "    \n",
    "    \n",
    "with mlflow.start_run():\n",
    "\n",
    "    def objective(trial):\n",
    "        params = {\n",
    "                'n_estimators': trial.suggest_int('n_estimators', 10, 50, 1),\n",
    "                'max_depth': trial.suggest_int('max_depth', 1, 20, 1),\n",
    "                'min_samples_split': trial.suggest_int('min_samples_split', 2, 10, 1),\n",
    "                'min_samples_leaf': trial.suggest_int('min_samples_leaf', 1, 4, 1),\n",
    "                'random_state': 42,\n",
    "                'n_jobs': -1\n",
    "            }\n",
    "\n",
    "        rf = RandomForestRegressor(**params)\n",
    "        rf.fit(X_train, y_train)\n",
    "        y_pred = rf.predict(X_val)\n",
    "        rmse = mean_squared_error(y_val, y_pred, squared=False)\n",
    "        mlflow.log_metric(\"rmse\", rmse)\n",
    "\n",
    "        return rmse\n",
    "\n",
    "    sampler = TPESampler(seed=42)\n",
    "    study = optuna.create_study(direction=\"minimize\", sampler=sampler)\n",
    "    num_trials= 50\n",
    "    study.optimize(objective, n_trials=num_trials)\n",
    "    mlflow.log_metric(\"rmse\", rmse)\n"
   ]
  },
  {
   "cell_type": "code",
   "execution_count": 103,
   "metadata": {},
   "outputs": [],
   "source": [
    "mlflow.end_run()"
   ]
  },
  {
   "cell_type": "markdown",
   "metadata": {},
   "source": [
    "# Using Autolog"
   ]
  },
  {
   "cell_type": "code",
   "execution_count": 104,
   "metadata": {},
   "outputs": [
    {
     "name": "stderr",
     "output_type": "stream",
     "text": [
      "2023/05/30 12:55:17 INFO mlflow.tracking.fluent: Autologging successfully enabled for statsmodels.\n",
      "[I 2023-05-30 12:55:17,322] A new study created in memory with name: no-name-5766ea2b-6e9a-4be4-b32d-fe75a429431a\n",
      "2023/05/30 12:55:17 INFO mlflow.utils.autologging_utils: Created MLflow autologging run with ID 'a43260ea9e1f4b4ba4ab0d9a273dd44d', which will track hyperparameters, performance metrics, model artifacts, and lineage information for the current sklearn workflow\n",
      "[I 2023-05-30 12:55:28,039] Trial 0 finished with value: 6.012747224033297 and parameters: {'n_estimators': 25, 'max_depth': 20, 'min_samples_split': 8, 'min_samples_leaf': 3}. Best is trial 0 with value: 6.012747224033297.\n",
      "[I 2023-05-30 12:55:31,818] Trial 1 finished with value: 6.249433998787504 and parameters: {'n_estimators': 16, 'max_depth': 4, 'min_samples_split': 2, 'min_samples_leaf': 4}. Best is trial 0 with value: 6.012747224033297.\n",
      "2023/05/30 12:55:37 WARNING mlflow.utils.autologging_utils: Encountered unexpected error during sklearn autologging: The following failures occurred while performing one or more logging operations: [MlflowException(\"Failed to perform one or more operations on the run with ID a2f37c0f85fb41df8465f2d6ae8b11fb. Failed operations: [RestException('INVALID_PARAMETER_VALUE: Parameter with key max_depth was already logged with a value of 4. The attempted new value was 15')]\")]\n",
      "[I 2023-05-30 12:55:37,312] Trial 2 finished with value: 6.039045655830305 and parameters: {'n_estimators': 34, 'max_depth': 15, 'min_samples_split': 2, 'min_samples_leaf': 4}. Best is trial 0 with value: 6.012747224033297.\n",
      "2023/05/30 12:55:40 WARNING mlflow.utils.autologging_utils: Encountered unexpected error during sklearn autologging: The following failures occurred while performing one or more logging operations: [MlflowException(\"Failed to perform one or more operations on the run with ID a2f37c0f85fb41df8465f2d6ae8b11fb. Failed operations: [RestException('INVALID_PARAMETER_VALUE: Parameter with key max_depth was already logged with a value of 4. The attempted new value was 5')]\")]\n",
      "[I 2023-05-30 12:55:40,999] Trial 3 finished with value: 6.179387143797027 and parameters: {'n_estimators': 44, 'max_depth': 5, 'min_samples_split': 3, 'min_samples_leaf': 1}. Best is trial 0 with value: 6.012747224033297.\n",
      "2023/05/30 12:55:45 WARNING mlflow.utils.autologging_utils: Encountered unexpected error during sklearn autologging: The following failures occurred while performing one or more logging operations: [MlflowException(\"Failed to perform one or more operations on the run with ID a2f37c0f85fb41df8465f2d6ae8b11fb. Failed operations: [RestException('INVALID_PARAMETER_VALUE: Parameter with key max_depth was already logged with a value of 4. The attempted new value was 11')]\")]\n",
      "[I 2023-05-30 12:55:45,234] Trial 4 finished with value: 6.075505898039151 and parameters: {'n_estimators': 22, 'max_depth': 11, 'min_samples_split': 5, 'min_samples_leaf': 2}. Best is trial 0 with value: 6.012747224033297.\n",
      "2023/05/30 12:55:48 WARNING mlflow.utils.autologging_utils: Encountered unexpected error during sklearn autologging: The following failures occurred while performing one or more logging operations: [MlflowException(\"Failed to perform one or more operations on the run with ID a2f37c0f85fb41df8465f2d6ae8b11fb. Failed operations: [RestException('INVALID_PARAMETER_VALUE: Parameter with key max_depth was already logged with a value of 4. The attempted new value was 3')]\")]\n",
      "[I 2023-05-30 12:55:48,655] Trial 5 finished with value: 6.441117537172997 and parameters: {'n_estimators': 35, 'max_depth': 3, 'min_samples_split': 4, 'min_samples_leaf': 2}. Best is trial 0 with value: 6.012747224033297.\n",
      "2023/05/30 12:55:55 WARNING mlflow.utils.autologging_utils: Encountered unexpected error during sklearn autologging: The following failures occurred while performing one or more logging operations: [MlflowException(\"Failed to perform one or more operations on the run with ID a2f37c0f85fb41df8465f2d6ae8b11fb. Failed operations: [RestException('INVALID_PARAMETER_VALUE: Parameter with key max_depth was already logged with a value of 4. The attempted new value was 16')]\")]\n",
      "[I 2023-05-30 12:55:56,130] Trial 6 finished with value: 6.0285791267371165 and parameters: {'n_estimators': 28, 'max_depth': 16, 'min_samples_split': 3, 'min_samples_leaf': 3}. Best is trial 0 with value: 6.012747224033297.\n",
      "2023/05/30 12:55:59 WARNING mlflow.utils.autologging_utils: Encountered unexpected error during sklearn autologging: The following failures occurred while performing one or more logging operations: [MlflowException(\"Failed to perform one or more operations on the run with ID a2f37c0f85fb41df8465f2d6ae8b11fb. Failed operations: [RestException('INVALID_PARAMETER_VALUE: Parameter with key max_depth was already logged with a value of 4. The attempted new value was 1')]\")]\n",
      "[I 2023-05-30 12:55:59,870] Trial 7 finished with value: 7.881244954282265 and parameters: {'n_estimators': 34, 'max_depth': 1, 'min_samples_split': 7, 'min_samples_leaf': 1}. Best is trial 0 with value: 6.012747224033297.\n",
      "2023/05/30 12:56:04 WARNING mlflow.utils.autologging_utils: Encountered unexpected error during sklearn autologging: The following failures occurred while performing one or more logging operations: [MlflowException(\"Failed to perform one or more operations on the run with ID a2f37c0f85fb41df8465f2d6ae8b11fb. Failed operations: [RestException('INVALID_PARAMETER_VALUE: Parameter with key max_depth was already logged with a value of 4. The attempted new value was 19')]\")]\n",
      "[I 2023-05-30 12:56:04,879] Trial 8 finished with value: 6.025608014492215 and parameters: {'n_estimators': 12, 'max_depth': 19, 'min_samples_split': 10, 'min_samples_leaf': 4}. Best is trial 0 with value: 6.012747224033297.\n",
      "2023/05/30 12:56:08 WARNING mlflow.utils.autologging_utils: Encountered unexpected error during sklearn autologging: The following failures occurred while performing one or more logging operations: [MlflowException(\"Failed to perform one or more operations on the run with ID a2f37c0f85fb41df8465f2d6ae8b11fb. Failed operations: [RestException('INVALID_PARAMETER_VALUE: Parameter with key max_depth was already logged with a value of 4. The attempted new value was 2')]\")]\n",
      "[I 2023-05-30 12:56:08,623] Trial 9 finished with value: 7.071070856187059 and parameters: {'n_estimators': 22, 'max_depth': 2, 'min_samples_split': 8, 'min_samples_leaf': 2}. Best is trial 0 with value: 6.012747224033297.\n",
      "2023/05/30 12:56:14 WARNING mlflow.utils.autologging_utils: Encountered unexpected error during sklearn autologging: The following failures occurred while performing one or more logging operations: [MlflowException(\"Failed to perform one or more operations on the run with ID a2f37c0f85fb41df8465f2d6ae8b11fb. Failed operations: [RestException('INVALID_PARAMETER_VALUE: Parameter with key max_depth was already logged with a value of 4. The attempted new value was 10')]\")]\n",
      "[I 2023-05-30 12:56:14,915] Trial 10 finished with value: 6.07515169296297 and parameters: {'n_estimators': 48, 'max_depth': 10, 'min_samples_split': 10, 'min_samples_leaf': 3}. Best is trial 0 with value: 6.012747224033297.\n",
      "2023/05/30 12:56:19 WARNING mlflow.utils.autologging_utils: Encountered unexpected error during sklearn autologging: The following failures occurred while performing one or more logging operations: [MlflowException(\"Failed to perform one or more operations on the run with ID a2f37c0f85fb41df8465f2d6ae8b11fb. Failed operations: [RestException('INVALID_PARAMETER_VALUE: Parameter with key max_depth was already logged with a value of 4. The attempted new value was 19')]\")]\n",
      "[I 2023-05-30 12:56:20,003] Trial 11 finished with value: 6.027013569541599 and parameters: {'n_estimators': 11, 'max_depth': 19, 'min_samples_split': 10, 'min_samples_leaf': 4}. Best is trial 0 with value: 6.012747224033297.\n",
      "2023/05/30 12:56:24 WARNING mlflow.utils.autologging_utils: Encountered unexpected error during sklearn autologging: The following failures occurred while performing one or more logging operations: [MlflowException(\"Failed to perform one or more operations on the run with ID a2f37c0f85fb41df8465f2d6ae8b11fb. Failed operations: [RestException('INVALID_PARAMETER_VALUE: Parameter with key max_depth was already logged with a value of 4. The attempted new value was 20')]\")]\n",
      "[I 2023-05-30 12:56:24,742] Trial 12 finished with value: 6.014044866880378 and parameters: {'n_estimators': 12, 'max_depth': 20, 'min_samples_split': 8, 'min_samples_leaf': 3}. Best is trial 0 with value: 6.012747224033297.\n",
      "2023/05/30 12:56:30 WARNING mlflow.utils.autologging_utils: Encountered unexpected error during sklearn autologging: The following failures occurred while performing one or more logging operations: [MlflowException(\"Failed to perform one or more operations on the run with ID a2f37c0f85fb41df8465f2d6ae8b11fb. Failed operations: [RestException('INVALID_PARAMETER_VALUE: Parameter with key max_depth was already logged with a value of 4. The attempted new value was 20')]\")]\n",
      "[I 2023-05-30 12:56:30,386] Trial 13 finished with value: 6.010555667596339 and parameters: {'n_estimators': 21, 'max_depth': 20, 'min_samples_split': 8, 'min_samples_leaf': 3}. Best is trial 13 with value: 6.010555667596339.\n",
      "2023/05/30 12:56:35 WARNING mlflow.utils.autologging_utils: Encountered unexpected error during sklearn autologging: The following failures occurred while performing one or more logging operations: [MlflowException(\"Failed to perform one or more operations on the run with ID a2f37c0f85fb41df8465f2d6ae8b11fb. Failed operations: [RestException('INVALID_PARAMETER_VALUE: Parameter with key max_depth was already logged with a value of 4. The attempted new value was 16')]\")]\n",
      "[I 2023-05-30 12:56:35,749] Trial 14 finished with value: 6.0266757379450215 and parameters: {'n_estimators': 24, 'max_depth': 16, 'min_samples_split': 8, 'min_samples_leaf': 3}. Best is trial 13 with value: 6.010555667596339.\n",
      "2023/05/30 12:56:39 WARNING mlflow.utils.autologging_utils: Encountered unexpected error during sklearn autologging: The following failures occurred while performing one or more logging operations: [MlflowException(\"Failed to perform one or more operations on the run with ID a2f37c0f85fb41df8465f2d6ae8b11fb. Failed operations: [RestException('INVALID_PARAMETER_VALUE: Parameter with key max_depth was already logged with a value of 4. The attempted new value was 12')]\")]\n",
      "[I 2023-05-30 12:56:39,910] Trial 15 finished with value: 6.050703926984736 and parameters: {'n_estimators': 18, 'max_depth': 12, 'min_samples_split': 6, 'min_samples_leaf': 3}. Best is trial 13 with value: 6.010555667596339.\n",
      "2023/05/30 12:56:43 WARNING mlflow.utils.autologging_utils: Encountered unexpected error during sklearn autologging: The following failures occurred while performing one or more logging operations: [MlflowException(\"Failed to perform one or more operations on the run with ID a2f37c0f85fb41df8465f2d6ae8b11fb. Failed operations: [RestException('INVALID_PARAMETER_VALUE: Parameter with key max_depth was already logged with a value of 4. The attempted new value was 8')]\")]\n",
      "[I 2023-05-30 12:56:43,906] Trial 16 finished with value: 6.111154743174032 and parameters: {'n_estimators': 29, 'max_depth': 8, 'min_samples_split': 7, 'min_samples_leaf': 2}. Best is trial 13 with value: 6.010555667596339.\n",
      "2023/05/30 12:56:49 WARNING mlflow.utils.autologging_utils: Encountered unexpected error during sklearn autologging: The following failures occurred while performing one or more logging operations: [MlflowException(\"Failed to perform one or more operations on the run with ID a2f37c0f85fb41df8465f2d6ae8b11fb. Failed operations: [RestException('INVALID_PARAMETER_VALUE: Parameter with key max_depth was already logged with a value of 4. The attempted new value was 14')]\")]\n",
      "[I 2023-05-30 12:56:49,580] Trial 17 finished with value: 6.038636426741477 and parameters: {'n_estimators': 41, 'max_depth': 14, 'min_samples_split': 9, 'min_samples_leaf': 3}. Best is trial 13 with value: 6.010555667596339.\n",
      "2023/05/30 12:56:54 WARNING mlflow.utils.autologging_utils: Encountered unexpected error during sklearn autologging: The following failures occurred while performing one or more logging operations: [MlflowException(\"Failed to perform one or more operations on the run with ID a2f37c0f85fb41df8465f2d6ae8b11fb. Failed operations: [RestException('INVALID_PARAMETER_VALUE: Parameter with key max_depth was already logged with a value of 4. The attempted new value was 18')]\")]\n",
      "[I 2023-05-30 12:56:54,332] Trial 18 finished with value: 6.020551616240445 and parameters: {'n_estimators': 18, 'max_depth': 18, 'min_samples_split': 6, 'min_samples_leaf': 2}. Best is trial 13 with value: 6.010555667596339.\n",
      "2023/05/30 12:56:59 WARNING mlflow.utils.autologging_utils: Encountered unexpected error during sklearn autologging: The following failures occurred while performing one or more logging operations: [MlflowException(\"Failed to perform one or more operations on the run with ID a2f37c0f85fb41df8465f2d6ae8b11fb. Failed operations: [RestException('INVALID_PARAMETER_VALUE: Parameter with key max_depth was already logged with a value of 4. The attempted new value was 18')]\")]\n",
      "[I 2023-05-30 12:56:59,558] Trial 19 finished with value: 6.02890154008106 and parameters: {'n_estimators': 25, 'max_depth': 18, 'min_samples_split': 9, 'min_samples_leaf': 4}. Best is trial 13 with value: 6.010555667596339.\n",
      "2023/05/30 12:57:04 WARNING mlflow.utils.autologging_utils: Encountered unexpected error during sklearn autologging: The following failures occurred while performing one or more logging operations: [MlflowException(\"Failed to perform one or more operations on the run with ID a2f37c0f85fb41df8465f2d6ae8b11fb. Failed operations: [RestException('INVALID_PARAMETER_VALUE: Parameter with key max_depth was already logged with a value of 4. The attempted new value was 13')]\")]\n",
      "[I 2023-05-30 12:57:04,400] Trial 20 finished with value: 6.045980756165214 and parameters: {'n_estimators': 37, 'max_depth': 13, 'min_samples_split': 7, 'min_samples_leaf': 3}. Best is trial 13 with value: 6.010555667596339.\n",
      "2023/05/30 12:57:08 WARNING mlflow.utils.autologging_utils: Encountered unexpected error during sklearn autologging: The following failures occurred while performing one or more logging operations: [MlflowException(\"Failed to perform one or more operations on the run with ID a2f37c0f85fb41df8465f2d6ae8b11fb. Failed operations: [RestException('INVALID_PARAMETER_VALUE: Parameter with key max_depth was already logged with a value of 4. The attempted new value was 20')]\")]\n",
      "[I 2023-05-30 12:57:08,895] Trial 21 finished with value: 6.013473164562511 and parameters: {'n_estimators': 15, 'max_depth': 20, 'min_samples_split': 8, 'min_samples_leaf': 3}. Best is trial 13 with value: 6.010555667596339.\n",
      "2023/05/30 12:57:13 WARNING mlflow.utils.autologging_utils: Encountered unexpected error during sklearn autologging: The following failures occurred while performing one or more logging operations: [MlflowException(\"Failed to perform one or more operations on the run with ID a2f37c0f85fb41df8465f2d6ae8b11fb. Failed operations: [RestException('INVALID_PARAMETER_VALUE: Parameter with key max_depth was already logged with a value of 4. The attempted new value was 20')]\")]\n",
      "[I 2023-05-30 12:57:13,452] Trial 22 finished with value: 6.010868603553358 and parameters: {'n_estimators': 16, 'max_depth': 20, 'min_samples_split': 9, 'min_samples_leaf': 3}. Best is trial 13 with value: 6.010555667596339.\n",
      "2023/05/30 12:57:17 WARNING mlflow.utils.autologging_utils: Encountered unexpected error during sklearn autologging: The following failures occurred while performing one or more logging operations: [MlflowException(\"Failed to perform one or more operations on the run with ID a2f37c0f85fb41df8465f2d6ae8b11fb. Failed operations: [RestException('INVALID_PARAMETER_VALUE: Parameter with key max_depth was already logged with a value of 4. The attempted new value was 17')]\")]\n",
      "[I 2023-05-30 12:57:17,961] Trial 23 finished with value: 6.019823954341271 and parameters: {'n_estimators': 20, 'max_depth': 17, 'min_samples_split': 9, 'min_samples_leaf': 3}. Best is trial 13 with value: 6.010555667596339.\n",
      "2023/05/30 12:57:23 WARNING mlflow.utils.autologging_utils: Encountered unexpected error during sklearn autologging: The following failures occurred while performing one or more logging operations: [MlflowException(\"Failed to perform one or more operations on the run with ID a2f37c0f85fb41df8465f2d6ae8b11fb. Failed operations: [RestException('INVALID_PARAMETER_VALUE: Parameter with key max_depth was already logged with a value of 4. The attempted new value was 20')]\")]\n",
      "[I 2023-05-30 12:57:23,397] Trial 24 finished with value: 6.007855966705248 and parameters: {'n_estimators': 28, 'max_depth': 20, 'min_samples_split': 9, 'min_samples_leaf': 2}. Best is trial 24 with value: 6.007855966705248.\n",
      "2023/05/30 12:57:27 WARNING mlflow.utils.autologging_utils: Encountered unexpected error during sklearn autologging: The following failures occurred while performing one or more logging operations: [MlflowException(\"Failed to perform one or more operations on the run with ID a2f37c0f85fb41df8465f2d6ae8b11fb. Failed operations: [RestException('INVALID_PARAMETER_VALUE: Parameter with key max_depth was already logged with a value of 4. The attempted new value was 17')]\")]\n",
      "[I 2023-05-30 12:57:28,097] Trial 25 finished with value: 6.075962256782307 and parameters: {'n_estimators': 31, 'max_depth': 17, 'min_samples_split': 9, 'min_samples_leaf': 1}. Best is trial 24 with value: 6.007855966705248.\n",
      "2023/05/30 12:57:31 WARNING mlflow.utils.autologging_utils: Encountered unexpected error during sklearn autologging: The following failures occurred while performing one or more logging operations: [MlflowException(\"Failed to perform one or more operations on the run with ID a2f37c0f85fb41df8465f2d6ae8b11fb. Failed operations: [RestException('INVALID_PARAMETER_VALUE: Parameter with key max_depth was already logged with a value of 4. The attempted new value was 9')]\")]\n",
      "[I 2023-05-30 12:57:31,821] Trial 26 finished with value: 6.094974505633916 and parameters: {'n_estimators': 27, 'max_depth': 9, 'min_samples_split': 10, 'min_samples_leaf': 2}. Best is trial 24 with value: 6.007855966705248.\n",
      "2023/05/30 12:57:34 WARNING mlflow.utils.autologging_utils: Encountered unexpected error during sklearn autologging: The following failures occurred while performing one or more logging operations: [MlflowException(\"Failed to perform one or more operations on the run with ID a2f37c0f85fb41df8465f2d6ae8b11fb. Failed operations: [RestException('INVALID_PARAMETER_VALUE: Parameter with key max_depth was already logged with a value of 4. The attempted new value was 7')]\")]\n",
      "[I 2023-05-30 12:57:35,128] Trial 27 finished with value: 6.121392273884006 and parameters: {'n_estimators': 16, 'max_depth': 7, 'min_samples_split': 9, 'min_samples_leaf': 2}. Best is trial 24 with value: 6.007855966705248.\n",
      "2023/05/30 12:57:39 WARNING mlflow.utils.autologging_utils: Encountered unexpected error during sklearn autologging: The following failures occurred while performing one or more logging operations: [MlflowException(\"Failed to perform one or more operations on the run with ID a2f37c0f85fb41df8465f2d6ae8b11fb. Failed operations: [RestException('INVALID_PARAMETER_VALUE: Parameter with key max_depth was already logged with a value of 4. The attempted new value was 15')]\")]\n",
      "[I 2023-05-30 12:57:39,950] Trial 28 finished with value: 6.036879567338545 and parameters: {'n_estimators': 31, 'max_depth': 15, 'min_samples_split': 7, 'min_samples_leaf': 2}. Best is trial 24 with value: 6.007855966705248.\n",
      "2023/05/30 12:57:44 WARNING mlflow.utils.autologging_utils: Encountered unexpected error during sklearn autologging: The following failures occurred while performing one or more logging operations: [MlflowException(\"Failed to perform one or more operations on the run with ID a2f37c0f85fb41df8465f2d6ae8b11fb. Failed operations: [RestException('INVALID_PARAMETER_VALUE: Parameter with key max_depth was already logged with a value of 4. The attempted new value was 20')]\")]\n",
      "[I 2023-05-30 12:57:44,850] Trial 29 finished with value: 6.0636783313973295 and parameters: {'n_estimators': 22, 'max_depth': 20, 'min_samples_split': 8, 'min_samples_leaf': 1}. Best is trial 24 with value: 6.007855966705248.\n",
      "2023/05/30 12:57:49 WARNING mlflow.utils.autologging_utils: Encountered unexpected error during sklearn autologging: The following failures occurred while performing one or more logging operations: [MlflowException(\"Failed to perform one or more operations on the run with ID a2f37c0f85fb41df8465f2d6ae8b11fb. Failed operations: [RestException('INVALID_PARAMETER_VALUE: Parameter with key max_depth was already logged with a value of 4. The attempted new value was 18')]\")]\n",
      "[I 2023-05-30 12:57:50,057] Trial 30 finished with value: 6.022548660927448 and parameters: {'n_estimators': 26, 'max_depth': 18, 'min_samples_split': 5, 'min_samples_leaf': 3}. Best is trial 24 with value: 6.007855966705248.\n",
      "2023/05/30 12:57:54 WARNING mlflow.utils.autologging_utils: Encountered unexpected error during sklearn autologging: The following failures occurred while performing one or more logging operations: [MlflowException(\"Failed to perform one or more operations on the run with ID a2f37c0f85fb41df8465f2d6ae8b11fb. Failed operations: [RestException('INVALID_PARAMETER_VALUE: Parameter with key max_depth was already logged with a value of 4. The attempted new value was 20')]\")]\n",
      "[I 2023-05-30 12:57:55,006] Trial 31 finished with value: 6.024162546274724 and parameters: {'n_estimators': 14, 'max_depth': 20, 'min_samples_split': 9, 'min_samples_leaf': 4}. Best is trial 24 with value: 6.007855966705248.\n",
      "2023/05/30 12:57:59 WARNING mlflow.utils.autologging_utils: Encountered unexpected error during sklearn autologging: The following failures occurred while performing one or more logging operations: [MlflowException(\"Failed to perform one or more operations on the run with ID a2f37c0f85fb41df8465f2d6ae8b11fb. Failed operations: [RestException('INVALID_PARAMETER_VALUE: Parameter with key max_depth was already logged with a value of 4. The attempted new value was 19')]\")]\n",
      "[I 2023-05-30 12:57:59,981] Trial 32 finished with value: 6.0146439914492635 and parameters: {'n_estimators': 19, 'max_depth': 19, 'min_samples_split': 8, 'min_samples_leaf': 3}. Best is trial 24 with value: 6.007855966705248.\n",
      "2023/05/30 12:58:04 WARNING mlflow.utils.autologging_utils: Encountered unexpected error during sklearn autologging: The following failures occurred while performing one or more logging operations: [MlflowException(\"Failed to perform one or more operations on the run with ID a2f37c0f85fb41df8465f2d6ae8b11fb. Failed operations: [RestException('INVALID_PARAMETER_VALUE: Parameter with key max_depth was already logged with a value of 4. The attempted new value was 17')]\")]\n",
      "[I 2023-05-30 12:58:05,148] Trial 33 finished with value: 6.032590508632688 and parameters: {'n_estimators': 24, 'max_depth': 17, 'min_samples_split': 7, 'min_samples_leaf': 4}. Best is trial 24 with value: 6.007855966705248.\n",
      "2023/05/30 12:58:09 WARNING mlflow.utils.autologging_utils: Encountered unexpected error during sklearn autologging: The following failures occurred while performing one or more logging operations: [MlflowException(\"Failed to perform one or more operations on the run with ID a2f37c0f85fb41df8465f2d6ae8b11fb. Failed operations: [RestException('INVALID_PARAMETER_VALUE: Parameter with key max_depth was already logged with a value of 4. The attempted new value was 15')]\")]\n",
      "[I 2023-05-30 12:58:09,743] Trial 34 finished with value: 6.027062702073216 and parameters: {'n_estimators': 21, 'max_depth': 15, 'min_samples_split': 10, 'min_samples_leaf': 3}. Best is trial 24 with value: 6.007855966705248.\n",
      "2023/05/30 12:58:12 WARNING mlflow.utils.autologging_utils: Encountered unexpected error during sklearn autologging: The following failures occurred while performing one or more logging operations: [MlflowException(\"Failed to perform one or more operations on the run with ID a2f37c0f85fb41df8465f2d6ae8b11fb. Failed operations: [RestException('INVALID_PARAMETER_VALUE: Parameter with key max_depth was already logged with a value of 4. The attempted new value was 5')]\")]\n",
      "[I 2023-05-30 12:58:13,047] Trial 35 finished with value: 6.176832580278029 and parameters: {'n_estimators': 32, 'max_depth': 5, 'min_samples_split': 9, 'min_samples_leaf': 2}. Best is trial 24 with value: 6.007855966705248.\n",
      "2023/05/30 12:58:17 WARNING mlflow.utils.autologging_utils: Encountered unexpected error during sklearn autologging: The following failures occurred while performing one or more logging operations: [MlflowException(\"Failed to perform one or more operations on the run with ID a2f37c0f85fb41df8465f2d6ae8b11fb. Failed operations: [RestException('INVALID_PARAMETER_VALUE: Parameter with key max_depth was already logged with a value of 4. The attempted new value was 19')]\")]\n",
      "[I 2023-05-30 12:58:18,106] Trial 36 finished with value: 6.017151720328978 and parameters: {'n_estimators': 17, 'max_depth': 19, 'min_samples_split': 5, 'min_samples_leaf': 3}. Best is trial 24 with value: 6.007855966705248.\n",
      "2023/05/30 12:58:24 WARNING mlflow.utils.autologging_utils: Encountered unexpected error during sklearn autologging: The following failures occurred while performing one or more logging operations: [MlflowException(\"Failed to perform one or more operations on the run with ID a2f37c0f85fb41df8465f2d6ae8b11fb. Failed operations: [RestException('INVALID_PARAMETER_VALUE: Parameter with key max_depth was already logged with a value of 4. The attempted new value was 16')]\")]\n",
      "[I 2023-05-30 12:58:24,228] Trial 37 finished with value: 6.030255282233868 and parameters: {'n_estimators': 37, 'max_depth': 16, 'min_samples_split': 8, 'min_samples_leaf': 2}. Best is trial 24 with value: 6.007855966705248.\n",
      "2023/05/30 12:58:29 WARNING mlflow.utils.autologging_utils: Encountered unexpected error during sklearn autologging: The following failures occurred while performing one or more logging operations: [MlflowException(\"Failed to perform one or more operations on the run with ID a2f37c0f85fb41df8465f2d6ae8b11fb. Failed operations: [RestException('INVALID_PARAMETER_VALUE: Parameter with key max_depth was already logged with a value of 4. The attempted new value was 18')]\")]\n",
      "[I 2023-05-30 12:58:30,057] Trial 38 finished with value: 6.029084807267829 and parameters: {'n_estimators': 28, 'max_depth': 18, 'min_samples_split': 6, 'min_samples_leaf': 4}. Best is trial 24 with value: 6.007855966705248.\n",
      "2023/05/30 12:58:35 WARNING mlflow.utils.autologging_utils: Encountered unexpected error during sklearn autologging: The following failures occurred while performing one or more logging operations: [MlflowException(\"Failed to perform one or more operations on the run with ID a2f37c0f85fb41df8465f2d6ae8b11fb. Failed operations: [RestException('INVALID_PARAMETER_VALUE: Parameter with key max_depth was already logged with a value of 4. The attempted new value was 20')]\")]\n",
      "[I 2023-05-30 12:58:35,641] Trial 39 finished with value: 6.015934082171285 and parameters: {'n_estimators': 23, 'max_depth': 20, 'min_samples_split': 3, 'min_samples_leaf': 3}. Best is trial 24 with value: 6.007855966705248.\n",
      "2023/05/30 12:58:39 WARNING mlflow.utils.autologging_utils: Encountered unexpected error during sklearn autologging: The following failures occurred while performing one or more logging operations: [MlflowException(\"Failed to perform one or more operations on the run with ID a2f37c0f85fb41df8465f2d6ae8b11fb. Failed operations: [RestException('INVALID_PARAMETER_VALUE: Parameter with key max_depth was already logged with a value of 4. The attempted new value was 13')]\")]\n",
      "[I 2023-05-30 12:58:39,522] Trial 40 finished with value: 6.051445295958157 and parameters: {'n_estimators': 14, 'max_depth': 13, 'min_samples_split': 7, 'min_samples_leaf': 2}. Best is trial 24 with value: 6.007855966705248.\n",
      "2023/05/30 12:58:44 WARNING mlflow.utils.autologging_utils: Encountered unexpected error during sklearn autologging: The following failures occurred while performing one or more logging operations: [MlflowException(\"Failed to perform one or more operations on the run with ID a2f37c0f85fb41df8465f2d6ae8b11fb. Failed operations: [RestException('INVALID_PARAMETER_VALUE: Parameter with key max_depth was already logged with a value of 4. The attempted new value was 20')]\")]\n",
      "[I 2023-05-30 12:58:44,389] Trial 41 finished with value: 6.017731091085658 and parameters: {'n_estimators': 10, 'max_depth': 20, 'min_samples_split': 8, 'min_samples_leaf': 3}. Best is trial 24 with value: 6.007855966705248.\n",
      "2023/05/30 12:58:48 WARNING mlflow.utils.autologging_utils: Encountered unexpected error during sklearn autologging: The following failures occurred while performing one or more logging operations: [MlflowException(\"Failed to perform one or more operations on the run with ID a2f37c0f85fb41df8465f2d6ae8b11fb. Failed operations: [RestException('INVALID_PARAMETER_VALUE: Parameter with key max_depth was already logged with a value of 4. The attempted new value was 19')]\")]\n",
      "[I 2023-05-30 12:58:48,646] Trial 42 finished with value: 6.017045729916714 and parameters: {'n_estimators': 14, 'max_depth': 19, 'min_samples_split': 8, 'min_samples_leaf': 3}. Best is trial 24 with value: 6.007855966705248.\n",
      "2023/05/30 12:58:54 WARNING mlflow.utils.autologging_utils: Encountered unexpected error during sklearn autologging: The following failures occurred while performing one or more logging operations: [MlflowException(\"Failed to perform one or more operations on the run with ID a2f37c0f85fb41df8465f2d6ae8b11fb. Failed operations: [RestException('INVALID_PARAMETER_VALUE: Parameter with key max_depth was already logged with a value of 4. The attempted new value was 20')]\")]\n",
      "[I 2023-05-30 12:58:54,626] Trial 43 finished with value: 6.0099225258492845 and parameters: {'n_estimators': 20, 'max_depth': 20, 'min_samples_split': 9, 'min_samples_leaf': 3}. Best is trial 24 with value: 6.007855966705248.\n",
      "2023/05/30 12:58:59 WARNING mlflow.utils.autologging_utils: Encountered unexpected error during sklearn autologging: The following failures occurred while performing one or more logging operations: [MlflowException(\"Failed to perform one or more operations on the run with ID a2f37c0f85fb41df8465f2d6ae8b11fb. Failed operations: [RestException('INVALID_PARAMETER_VALUE: Parameter with key max_depth was already logged with a value of 4. The attempted new value was 18')]\")]\n",
      "[I 2023-05-30 12:58:59,867] Trial 44 finished with value: 6.018109080662801 and parameters: {'n_estimators': 25, 'max_depth': 18, 'min_samples_split': 10, 'min_samples_leaf': 3}. Best is trial 24 with value: 6.007855966705248.\n",
      "2023/05/30 12:59:04 WARNING mlflow.utils.autologging_utils: Encountered unexpected error during sklearn autologging: The following failures occurred while performing one or more logging operations: [MlflowException(\"Failed to perform one or more operations on the run with ID a2f37c0f85fb41df8465f2d6ae8b11fb. Failed operations: [RestException('INVALID_PARAMETER_VALUE: Parameter with key max_depth was already logged with a value of 4. The attempted new value was 17')]\")]\n",
      "[I 2023-05-30 12:59:04,374] Trial 45 finished with value: 6.019823954341271 and parameters: {'n_estimators': 20, 'max_depth': 17, 'min_samples_split': 9, 'min_samples_leaf': 3}. Best is trial 24 with value: 6.007855966705248.\n",
      "2023/05/30 12:59:08 WARNING mlflow.utils.autologging_utils: Encountered unexpected error during sklearn autologging: The following failures occurred while performing one or more logging operations: [MlflowException(\"Failed to perform one or more operations on the run with ID a2f37c0f85fb41df8465f2d6ae8b11fb. Failed operations: [RestException('INVALID_PARAMETER_VALUE: Parameter with key max_depth was already logged with a value of 4. The attempted new value was 19')]\")]\n",
      "[I 2023-05-30 12:59:09,098] Trial 46 finished with value: 6.024948916056803 and parameters: {'n_estimators': 22, 'max_depth': 19, 'min_samples_split': 10, 'min_samples_leaf': 4}. Best is trial 24 with value: 6.007855966705248.\n",
      "2023/05/30 12:59:14 WARNING mlflow.utils.autologging_utils: Encountered unexpected error during sklearn autologging: The following failures occurred while performing one or more logging operations: [MlflowException(\"Failed to perform one or more operations on the run with ID a2f37c0f85fb41df8465f2d6ae8b11fb. Failed operations: [RestException('INVALID_PARAMETER_VALUE: Parameter with key max_depth was already logged with a value of 4. The attempted new value was 20')]\")]\n",
      "[I 2023-05-30 12:59:14,601] Trial 47 finished with value: 6.010988222218658 and parameters: {'n_estimators': 29, 'max_depth': 20, 'min_samples_split': 9, 'min_samples_leaf': 3}. Best is trial 24 with value: 6.007855966705248.\n",
      "2023/05/30 12:59:20 WARNING mlflow.utils.autologging_utils: Encountered unexpected error during sklearn autologging: The following failures occurred while performing one or more logging operations: [MlflowException(\"Failed to perform one or more operations on the run with ID a2f37c0f85fb41df8465f2d6ae8b11fb. Failed operations: [RestException('INVALID_PARAMETER_VALUE: Parameter with key max_depth was already logged with a value of 4. The attempted new value was 20')]\")]\n",
      "[I 2023-05-30 12:59:21,154] Trial 48 finished with value: 6.007352732860124 and parameters: {'n_estimators': 33, 'max_depth': 20, 'min_samples_split': 9, 'min_samples_leaf': 2}. Best is trial 48 with value: 6.007352732860124.\n",
      "2023/05/30 12:59:26 WARNING mlflow.utils.autologging_utils: Encountered unexpected error during sklearn autologging: The following failures occurred while performing one or more logging operations: [MlflowException(\"Failed to perform one or more operations on the run with ID a2f37c0f85fb41df8465f2d6ae8b11fb. Failed operations: [RestException('INVALID_PARAMETER_VALUE: Parameter with key max_depth was already logged with a value of 4. The attempted new value was 16')]\")]\n",
      "[I 2023-05-30 12:59:26,511] Trial 49 finished with value: 6.027795023974539 and parameters: {'n_estimators': 34, 'max_depth': 16, 'min_samples_split': 10, 'min_samples_leaf': 2}. Best is trial 48 with value: 6.007352732860124.\n"
     ]
    }
   ],
   "source": [
    "mlflow.autolog()\n",
    "def objective(trial):\n",
    "        params = {\n",
    "                'n_estimators': trial.suggest_int('n_estimators', 10, 50, 1),\n",
    "                'max_depth': trial.suggest_int('max_depth', 1, 20, 1),\n",
    "                'min_samples_split': trial.suggest_int('min_samples_split', 2, 10, 1),\n",
    "                'min_samples_leaf': trial.suggest_int('min_samples_leaf', 1, 4, 1),\n",
    "                'random_state': 42,\n",
    "                'n_jobs': -1\n",
    "            }\n",
    "\n",
    "        rf = RandomForestRegressor(**params)\n",
    "        rf.fit(X_train, y_train)\n",
    "        y_pred = rf.predict(X_val)\n",
    "        rmse = mean_squared_error(y_val, y_pred, squared=False)\n",
    "        mlflow.log_metric(\"rmse\", rmse)\n",
    "\n",
    "        return rmse\n",
    "\n",
    "sampler = TPESampler(seed=42)\n",
    "study = optuna.create_study(direction=\"minimize\", sampler=sampler)\n",
    "num_trials= 50\n",
    "study.optimize(objective, n_trials=num_trials)\n",
    "mlflow.log_metric(\"rmse\", rmse)\n",
    "autolog_run = mlflow.last_active_run()\n"
   ]
  },
  {
   "cell_type": "code",
   "execution_count": 105,
   "metadata": {},
   "outputs": [],
   "source": [
    "mlflow.end_run()"
   ]
  },
  {
   "cell_type": "markdown",
   "metadata": {},
   "source": [
    "# Choosing the Best Model"
   ]
  },
  {
   "cell_type": "markdown",
   "metadata": {},
   "source": [
    "copy parametrs from databricks/mlflow ui"
   ]
  },
  {
   "cell_type": "code",
   "execution_count": 92,
   "metadata": {},
   "outputs": [],
   "source": [
    "import os\n",
    "import pickle\n",
    "import click\n",
    "import mlflow\n",
    "\n",
    "from mlflow.entities import ViewType\n",
    "from mlflow.tracking import MlflowClient\n",
    "from sklearn.ensemble import RandomForestRegressor\n",
    "from sklearn.metrics import mean_squared_error"
   ]
  },
  {
   "cell_type": "markdown",
   "metadata": {},
   "source": [
    "## Preprocess Test data"
   ]
  },
  {
   "cell_type": "code",
   "execution_count": 134,
   "metadata": {},
   "outputs": [],
   "source": [
    "df_test = read_dataframe('./data/green_tripdata_2022-03.parquet')"
   ]
  },
  {
   "cell_type": "code",
   "execution_count": 135,
   "metadata": {},
   "outputs": [],
   "source": [
    "df_test['PU_DO'] = df_test['PULocationID'] + '_' + df_test['DOLocationID']"
   ]
  },
  {
   "cell_type": "code",
   "execution_count": 136,
   "metadata": {},
   "outputs": [],
   "source": [
    "test_dicts = df_test[categorical + numerical].to_dict(orient='records')\n",
    "X_test = dv.transform(test_dicts)"
   ]
  },
  {
   "cell_type": "code",
   "execution_count": 137,
   "metadata": {},
   "outputs": [],
   "source": [
    "target = 'duration'\n",
    "y_test = df_test[target].values"
   ]
  },
  {
   "cell_type": "code",
   "execution_count": 138,
   "metadata": {},
   "outputs": [
    {
     "name": "stderr",
     "output_type": "stream",
     "text": [
      "[I 2023-05-30 13:41:20,428] A new study created in memory with name: no-name-6a482d78-2b8d-4d8b-a981-86f613759e62\n",
      "[I 2023-05-30 13:41:26,504] Trial 0 finished with value: 6.346932916250552 and parameters: {}. Best is trial 0 with value: 6.346932916250552.\n",
      "[I 2023-05-30 13:41:31,385] Trial 1 finished with value: 6.346932916250552 and parameters: {}. Best is trial 0 with value: 6.346932916250552.\n",
      "[I 2023-05-30 13:41:35,089] Trial 2 finished with value: 6.346932916250552 and parameters: {}. Best is trial 0 with value: 6.346932916250552.\n",
      "[I 2023-05-30 13:41:38,681] Trial 3 finished with value: 6.346932916250552 and parameters: {}. Best is trial 0 with value: 6.346932916250552.\n",
      "[I 2023-05-30 13:41:42,157] Trial 4 finished with value: 6.346932916250552 and parameters: {}. Best is trial 0 with value: 6.346932916250552.\n",
      "[I 2023-05-30 13:41:46,711] Trial 5 finished with value: 6.346932916250552 and parameters: {}. Best is trial 0 with value: 6.346932916250552.\n",
      "[I 2023-05-30 13:41:50,111] Trial 6 finished with value: 6.346932916250552 and parameters: {}. Best is trial 0 with value: 6.346932916250552.\n",
      "[I 2023-05-30 13:41:54,738] Trial 7 finished with value: 6.346932916250552 and parameters: {}. Best is trial 0 with value: 6.346932916250552.\n",
      "[I 2023-05-30 13:41:59,445] Trial 8 finished with value: 6.346932916250552 and parameters: {}. Best is trial 0 with value: 6.346932916250552.\n",
      "[I 2023-05-30 13:42:02,940] Trial 9 finished with value: 6.346932916250552 and parameters: {}. Best is trial 0 with value: 6.346932916250552.\n",
      "[I 2023-05-30 13:42:07,129] Trial 10 finished with value: 6.346932916250552 and parameters: {}. Best is trial 0 with value: 6.346932916250552.\n",
      "[I 2023-05-30 13:42:11,234] Trial 11 finished with value: 6.346932916250552 and parameters: {}. Best is trial 0 with value: 6.346932916250552.\n",
      "[I 2023-05-30 13:42:14,805] Trial 12 finished with value: 6.346932916250552 and parameters: {}. Best is trial 0 with value: 6.346932916250552.\n",
      "[I 2023-05-30 13:42:19,059] Trial 13 finished with value: 6.346932916250552 and parameters: {}. Best is trial 0 with value: 6.346932916250552.\n",
      "[I 2023-05-30 13:42:22,945] Trial 14 finished with value: 6.346932916250552 and parameters: {}. Best is trial 0 with value: 6.346932916250552.\n",
      "[I 2023-05-30 13:42:26,870] Trial 15 finished with value: 6.346932916250552 and parameters: {}. Best is trial 0 with value: 6.346932916250552.\n",
      "[I 2023-05-30 13:42:30,554] Trial 16 finished with value: 6.346932916250552 and parameters: {}. Best is trial 0 with value: 6.346932916250552.\n",
      "[I 2023-05-30 13:42:34,332] Trial 17 finished with value: 6.346932916250552 and parameters: {}. Best is trial 0 with value: 6.346932916250552.\n",
      "[I 2023-05-30 13:42:38,034] Trial 18 finished with value: 6.346932916250552 and parameters: {}. Best is trial 0 with value: 6.346932916250552.\n",
      "[I 2023-05-30 13:42:41,497] Trial 19 finished with value: 6.346932916250552 and parameters: {}. Best is trial 0 with value: 6.346932916250552.\n",
      "[I 2023-05-30 13:42:45,184] Trial 20 finished with value: 6.346932916250552 and parameters: {}. Best is trial 0 with value: 6.346932916250552.\n",
      "[I 2023-05-30 13:42:48,676] Trial 21 finished with value: 6.346932916250552 and parameters: {}. Best is trial 0 with value: 6.346932916250552.\n",
      "[I 2023-05-30 13:42:51,983] Trial 22 finished with value: 6.346932916250552 and parameters: {}. Best is trial 0 with value: 6.346932916250552.\n",
      "[I 2023-05-30 13:42:55,844] Trial 23 finished with value: 6.346932916250552 and parameters: {}. Best is trial 0 with value: 6.346932916250552.\n",
      "[I 2023-05-30 13:42:59,688] Trial 24 finished with value: 6.346932916250552 and parameters: {}. Best is trial 0 with value: 6.346932916250552.\n",
      "[I 2023-05-30 13:43:02,944] Trial 25 finished with value: 6.346932916250552 and parameters: {}. Best is trial 0 with value: 6.346932916250552.\n",
      "[I 2023-05-30 13:43:06,221] Trial 26 finished with value: 6.346932916250552 and parameters: {}. Best is trial 0 with value: 6.346932916250552.\n",
      "[I 2023-05-30 13:43:09,558] Trial 27 finished with value: 6.346932916250552 and parameters: {}. Best is trial 0 with value: 6.346932916250552.\n",
      "[I 2023-05-30 13:43:12,978] Trial 28 finished with value: 6.346932916250552 and parameters: {}. Best is trial 0 with value: 6.346932916250552.\n",
      "[I 2023-05-30 13:43:16,124] Trial 29 finished with value: 6.346932916250552 and parameters: {}. Best is trial 0 with value: 6.346932916250552.\n",
      "[I 2023-05-30 13:43:19,458] Trial 30 finished with value: 6.346932916250552 and parameters: {}. Best is trial 0 with value: 6.346932916250552.\n",
      "[I 2023-05-30 13:43:23,379] Trial 31 finished with value: 6.346932916250552 and parameters: {}. Best is trial 0 with value: 6.346932916250552.\n",
      "[I 2023-05-30 13:43:26,691] Trial 32 finished with value: 6.346932916250552 and parameters: {}. Best is trial 0 with value: 6.346932916250552.\n",
      "[I 2023-05-30 13:43:30,609] Trial 33 finished with value: 6.346932916250552 and parameters: {}. Best is trial 0 with value: 6.346932916250552.\n",
      "[I 2023-05-30 13:43:33,844] Trial 34 finished with value: 6.346932916250552 and parameters: {}. Best is trial 0 with value: 6.346932916250552.\n",
      "[I 2023-05-30 13:43:37,065] Trial 35 finished with value: 6.346932916250552 and parameters: {}. Best is trial 0 with value: 6.346932916250552.\n",
      "[I 2023-05-30 13:43:40,459] Trial 36 finished with value: 6.346932916250552 and parameters: {}. Best is trial 0 with value: 6.346932916250552.\n",
      "[I 2023-05-30 13:43:44,530] Trial 37 finished with value: 6.346932916250552 and parameters: {}. Best is trial 0 with value: 6.346932916250552.\n",
      "2023/05/30 13:43:48 WARNING mlflow.models.model: Logging model metadata to the tracking server has failed. The model artifacts have been logged successfully under dbfs:/databricks/mlflow-tracking/299707463258061/5ccfabb423f7448b8c3da8c3283e6174/artifacts. Set logging level to DEBUG via `logging.getLogger(\"mlflow\").setLevel(logging.DEBUG)` to see the full traceback.\n",
      "[I 2023-05-30 13:43:48,576] Trial 38 finished with value: 6.346932916250552 and parameters: {}. Best is trial 0 with value: 6.346932916250552.\n",
      "2023/05/30 13:43:52 WARNING mlflow.models.model: Logging model metadata to the tracking server has failed. The model artifacts have been logged successfully under dbfs:/databricks/mlflow-tracking/299707463258061/5ccfabb423f7448b8c3da8c3283e6174/artifacts. Set logging level to DEBUG via `logging.getLogger(\"mlflow\").setLevel(logging.DEBUG)` to see the full traceback.\n",
      "[I 2023-05-30 13:43:52,738] Trial 39 finished with value: 6.346932916250552 and parameters: {}. Best is trial 0 with value: 6.346932916250552.\n",
      "2023/05/30 13:43:56 WARNING mlflow.models.model: Logging model metadata to the tracking server has failed. The model artifacts have been logged successfully under dbfs:/databricks/mlflow-tracking/299707463258061/5ccfabb423f7448b8c3da8c3283e6174/artifacts. Set logging level to DEBUG via `logging.getLogger(\"mlflow\").setLevel(logging.DEBUG)` to see the full traceback.\n",
      "[I 2023-05-30 13:43:57,622] Trial 40 finished with value: 6.346932916250552 and parameters: {}. Best is trial 0 with value: 6.346932916250552.\n",
      "2023/05/30 13:44:01 WARNING mlflow.models.model: Logging model metadata to the tracking server has failed. The model artifacts have been logged successfully under dbfs:/databricks/mlflow-tracking/299707463258061/5ccfabb423f7448b8c3da8c3283e6174/artifacts. Set logging level to DEBUG via `logging.getLogger(\"mlflow\").setLevel(logging.DEBUG)` to see the full traceback.\n",
      "[I 2023-05-30 13:44:02,460] Trial 41 finished with value: 6.346932916250552 and parameters: {}. Best is trial 0 with value: 6.346932916250552.\n",
      "2023/05/30 13:44:05 WARNING mlflow.models.model: Logging model metadata to the tracking server has failed. The model artifacts have been logged successfully under dbfs:/databricks/mlflow-tracking/299707463258061/5ccfabb423f7448b8c3da8c3283e6174/artifacts. Set logging level to DEBUG via `logging.getLogger(\"mlflow\").setLevel(logging.DEBUG)` to see the full traceback.\n",
      "[I 2023-05-30 13:44:06,089] Trial 42 finished with value: 6.346932916250552 and parameters: {}. Best is trial 0 with value: 6.346932916250552.\n",
      "2023/05/30 13:44:09 WARNING mlflow.models.model: Logging model metadata to the tracking server has failed. The model artifacts have been logged successfully under dbfs:/databricks/mlflow-tracking/299707463258061/5ccfabb423f7448b8c3da8c3283e6174/artifacts. Set logging level to DEBUG via `logging.getLogger(\"mlflow\").setLevel(logging.DEBUG)` to see the full traceback.\n",
      "[I 2023-05-30 13:44:09,703] Trial 43 finished with value: 6.346932916250552 and parameters: {}. Best is trial 0 with value: 6.346932916250552.\n",
      "2023/05/30 13:44:12 WARNING mlflow.models.model: Logging model metadata to the tracking server has failed. The model artifacts have been logged successfully under dbfs:/databricks/mlflow-tracking/299707463258061/5ccfabb423f7448b8c3da8c3283e6174/artifacts. Set logging level to DEBUG via `logging.getLogger(\"mlflow\").setLevel(logging.DEBUG)` to see the full traceback.\n",
      "[I 2023-05-30 13:44:13,536] Trial 44 finished with value: 6.346932916250552 and parameters: {}. Best is trial 0 with value: 6.346932916250552.\n",
      "2023/05/30 13:44:16 WARNING mlflow.models.model: Logging model metadata to the tracking server has failed. The model artifacts have been logged successfully under dbfs:/databricks/mlflow-tracking/299707463258061/5ccfabb423f7448b8c3da8c3283e6174/artifacts. Set logging level to DEBUG via `logging.getLogger(\"mlflow\").setLevel(logging.DEBUG)` to see the full traceback.\n",
      "[I 2023-05-30 13:44:17,300] Trial 45 finished with value: 6.346932916250552 and parameters: {}. Best is trial 0 with value: 6.346932916250552.\n",
      "2023/05/30 13:44:20 WARNING mlflow.models.model: Logging model metadata to the tracking server has failed. The model artifacts have been logged successfully under dbfs:/databricks/mlflow-tracking/299707463258061/5ccfabb423f7448b8c3da8c3283e6174/artifacts. Set logging level to DEBUG via `logging.getLogger(\"mlflow\").setLevel(logging.DEBUG)` to see the full traceback.\n",
      "[I 2023-05-30 13:44:20,898] Trial 46 finished with value: 6.346932916250552 and parameters: {}. Best is trial 0 with value: 6.346932916250552.\n",
      "2023/05/30 13:44:24 WARNING mlflow.models.model: Logging model metadata to the tracking server has failed. The model artifacts have been logged successfully under dbfs:/databricks/mlflow-tracking/299707463258061/5ccfabb423f7448b8c3da8c3283e6174/artifacts. Set logging level to DEBUG via `logging.getLogger(\"mlflow\").setLevel(logging.DEBUG)` to see the full traceback.\n",
      "[I 2023-05-30 13:44:24,948] Trial 47 finished with value: 6.346932916250552 and parameters: {}. Best is trial 0 with value: 6.346932916250552.\n",
      "2023/05/30 13:44:28 WARNING mlflow.models.model: Logging model metadata to the tracking server has failed. The model artifacts have been logged successfully under dbfs:/databricks/mlflow-tracking/299707463258061/5ccfabb423f7448b8c3da8c3283e6174/artifacts. Set logging level to DEBUG via `logging.getLogger(\"mlflow\").setLevel(logging.DEBUG)` to see the full traceback.\n",
      "[I 2023-05-30 13:44:28,635] Trial 48 finished with value: 6.346932916250552 and parameters: {}. Best is trial 0 with value: 6.346932916250552.\n",
      "2023/05/30 13:44:32 WARNING mlflow.models.model: Logging model metadata to the tracking server has failed. The model artifacts have been logged successfully under dbfs:/databricks/mlflow-tracking/299707463258061/5ccfabb423f7448b8c3da8c3283e6174/artifacts. Set logging level to DEBUG via `logging.getLogger(\"mlflow\").setLevel(logging.DEBUG)` to see the full traceback.\n",
      "[I 2023-05-30 13:44:32,775] Trial 49 finished with value: 6.346932916250552 and parameters: {}. Best is trial 0 with value: 6.346932916250552.\n"
     ]
    }
   ],
   "source": [
    "def objective(trial):\n",
    "        params = {\n",
    "                        'bootstrap': True,\n",
    "                        'ccp_alpha': 0.0,\n",
    "                        'criterion': \"squared_error\",\n",
    "                        'max_depth': 4,\n",
    "                        'max_features': \"auto\",\n",
    "                        'max_leaf_nodes': None,\n",
    "                        'max_samples': None,\n",
    "                        'min_impurity_decrease':0.0,\n",
    "                        'min_samples_leaf':4,\n",
    "                        'min_samples_split':2,\n",
    "                        'min_weight_fraction_leaf':0.0,\n",
    "                        'n_estimators':16,\n",
    "                        'n_jobs':-1,\n",
    "                        'oob_score':False,\n",
    "                        'random_state':42,\n",
    "                        'verbose':0,\n",
    "                        'warm_start':False  } \n",
    "            \n",
    "\n",
    "        rf = RandomForestRegressor(**params)\n",
    "        rf.fit(X_train, y_train)\n",
    "        y_pred = rf.predict(X_test)\n",
    "        rmse = mean_squared_error(y_test, y_pred, squared=False)\n",
    "        mlflow.log_metric(\"rmse\", rmse)\n",
    "\n",
    "        return rmse\n",
    "\n",
    "sampler = TPESampler(seed=42)\n",
    "study = optuna.create_study(direction=\"minimize\", sampler=sampler)\n",
    "num_trials= 50\n",
    "study.optimize(objective, n_trials=num_trials)\n",
    "mlflow.log_metric(\"rmse\", rmse)"
   ]
  },
  {
   "cell_type": "code",
   "execution_count": 98,
   "metadata": {},
   "outputs": [],
   "source": [
    "\n",
    "RF_PARAMS = ['max_depth', 'n_estimators', 'min_samples_split', 'min_samples_leaf', 'random_state', 'n_jobs']\n",
    "HPO_EXPERIMENT_NAME = \"MLFlow Zoomcamp Random Forest Hyperopt\"\n",
    "EXPERIMENT_NAME = \"funny-roo-797\" #best model experiment name from databricks\n",
    "\n",
    "mlflow.sklearn.autolog()"
   ]
  },
  {
   "cell_type": "code",
   "execution_count": 99,
   "metadata": {},
   "outputs": [],
   "source": [
    "def train_and_log_model(data_path, params):\n",
    "    X_train, y_train = load_pickle(os.path.join(data_path, \"train.pkl\"))\n",
    "    X_val, y_val = load_pickle(os.path.join(data_path, \"val.pkl\"))\n",
    "    X_test, y_test = load_pickle(os.path.join(data_path, \"test.pkl\"))\n",
    "\n",
    "    with mlflow.start_run():\n",
    "        for param in RF_PARAMS:\n",
    "            params[param] = int(params[param])\n",
    "\n",
    "        rf = RandomForestRegressor(**params)\n",
    "        rf.fit(X_train, y_train)\n",
    "\n",
    "        # Evaluate model on the validation and test sets\n",
    "        val_rmse = mean_squared_error(y_val, rf.predict(X_val), squared=False)\n",
    "        mlflow.log_metric(\"val_rmse\", val_rmse)\n",
    "        test_rmse = mean_squared_error(y_test, rf.predict(X_test), squared=False)\n",
    "        mlflow.log_metric(\"test_rmse\", test_rmse)"
   ]
  },
  {
   "cell_type": "code",
   "execution_count": 100,
   "metadata": {},
   "outputs": [],
   "source": [
    "\n",
    "def run_register_model(data_path: str, top_n: int):\n",
    "\n",
    "    client = MlflowClient()\n",
    "\n",
    "    # Retrieve the top_n model runs and log the models\n",
    "    experiment = client.get_experiment_by_name(HPO_EXPERIMENT_NAME)\n",
    "    runs = client.search_runs(\n",
    "        experiment_ids=experiment.experiment_id,\n",
    "        run_view_type=ViewType.ACTIVE_ONLY,\n",
    "        max_results=top_n,\n",
    "        order_by=[\"metrics.rmse ASC\"]\n",
    "    )\n",
    "    for run in runs:\n",
    "        train_and_log_model(data_path=data_path, params=run.data.params)\n",
    "\n",
    "    # Select the model with the lowest test RMSE\n",
    "    experiment = client.get_experiment_by_name(EXPERIMENT_NAME)\n",
    "    # best_run = client.search_runs( ...  )[0]\n",
    "\n",
    "    # Register the best model\n",
    "    # mlflow.register_model( ... )"
   ]
  },
  {
   "cell_type": "code",
   "execution_count": null,
   "metadata": {},
   "outputs": [],
   "source": []
  }
 ],
 "metadata": {
  "kernelspec": {
   "display_name": "Python 3 (ipykernel)",
   "language": "python",
   "name": "python3"
  },
  "language_info": {
   "codemirror_mode": {
    "name": "ipython",
    "version": 3
   },
   "file_extension": ".py",
   "mimetype": "text/x-python",
   "name": "python",
   "nbconvert_exporter": "python",
   "pygments_lexer": "ipython3",
   "version": "3.10.8"
  }
 },
 "nbformat": 4,
 "nbformat_minor": 5
}
